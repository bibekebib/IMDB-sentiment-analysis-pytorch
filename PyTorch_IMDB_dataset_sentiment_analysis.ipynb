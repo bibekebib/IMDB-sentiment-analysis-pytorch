{
  "nbformat": 4,
  "nbformat_minor": 0,
  "metadata": {
    "colab": {
      "name": "PyTorch IMDB dataset sentiment analysis.ipynb",
      "provenance": [],
      "collapsed_sections": [],
      "include_colab_link": true
    },
    "kernelspec": {
      "name": "python3",
      "display_name": "Python 3"
    }
  },
  "cells": [
    {
      "cell_type": "markdown",
      "metadata": {
        "id": "view-in-github",
        "colab_type": "text"
      },
      "source": [
        "<a href=\"https://colab.research.google.com/github/bibekebib/IMDB-sentiment-analysis-pytorch/blob/main/PyTorch_IMDB_dataset_sentiment_analysis.ipynb\" target=\"_parent\"><img src=\"https://colab.research.google.com/assets/colab-badge.svg\" alt=\"Open In Colab\"/></a>"
      ]
    },
    {
      "cell_type": "code",
      "metadata": {
        "id": "akJ8fvsfGVdn",
        "colab": {
          "resources": {
            "http://localhost:8080/nbextensions/google.colab/files.js": {
              "data": "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",
              "ok": true,
              "headers": [
                [
                  "content-type",
                  "application/javascript"
                ]
              ],
              "status": 200,
              "status_text": "OK"
            }
          },
          "base_uri": "https://localhost:8080/",
          "height": 39
        },
        "outputId": "19d6c230-f411-4e85-c5e9-5d8bfbdcb851"
      },
      "source": [
        "# Run this cell and select the kaggle.json file downloaded\n",
        "# from the Kaggle account settings page.\n",
        "from google.colab import files\n",
        "files.upload()"
      ],
      "execution_count": null,
      "outputs": [
        {
          "output_type": "display_data",
          "data": {
            "text/html": [
              "\n",
              "     <input type=\"file\" id=\"files-fddf7cd6-ebe8-4a83-b1e6-3a0571d2e59d\" name=\"files[]\" multiple disabled\n",
              "        style=\"border:none\" />\n",
              "     <output id=\"result-fddf7cd6-ebe8-4a83-b1e6-3a0571d2e59d\">\n",
              "      Upload widget is only available when the cell has been executed in the\n",
              "      current browser session. Please rerun this cell to enable.\n",
              "      </output>\n",
              "      <script src=\"/nbextensions/google.colab/files.js\"></script> "
            ],
            "text/plain": [
              "<IPython.core.display.HTML object>"
            ]
          },
          "metadata": {
            "tags": []
          }
        }
      ]
    },
    {
      "cell_type": "code",
      "metadata": {
        "id": "cDLXrqcNGlU7",
        "colab": {
          "base_uri": "https://localhost:8080/"
        },
        "outputId": "5d9b33fe-977c-44b5-ecb4-f69cd8a93834"
      },
      "source": [
        "# Let's make sure the kaggle.json file is present.\n",
        "!ls -lha kaggle.json"
      ],
      "execution_count": 2,
      "outputs": [
        {
          "output_type": "stream",
          "text": [
            "-rw-r--r-- 1 root root 68 Jun 27 02:16 kaggle.json\n"
          ],
          "name": "stdout"
        }
      ]
    },
    {
      "cell_type": "code",
      "metadata": {
        "id": "QITWh1N5GoqG",
        "colab": {
          "base_uri": "https://localhost:8080/"
        },
        "outputId": "d078d2e8-ae6e-49dc-e4fc-20deade97014"
      },
      "source": [
        "# Next, install the Kaggle API client.\n",
        "!pip install -q kaggle\n",
        "!pip install wordcloud"
      ],
      "execution_count": 3,
      "outputs": [
        {
          "output_type": "stream",
          "text": [
            "Requirement already satisfied: wordcloud in /usr/local/lib/python3.7/dist-packages (1.5.0)\n",
            "Requirement already satisfied: pillow in /usr/local/lib/python3.7/dist-packages (from wordcloud) (7.1.2)\n",
            "Requirement already satisfied: numpy>=1.6.1 in /usr/local/lib/python3.7/dist-packages (from wordcloud) (1.19.5)\n"
          ],
          "name": "stdout"
        }
      ]
    },
    {
      "cell_type": "code",
      "metadata": {
        "id": "KixiXyagGy7Y"
      },
      "source": [
        "# The Kaggle API client expects this file to be in ~/.kaggle,\n",
        "# so move it there.\n",
        "!mkdir -p ~/.kaggle\n",
        "!cp kaggle.json ~/.kaggle/\n",
        "\n",
        "# This permissions change avoids a warning on Kaggle tool startup.\n",
        "!chmod 600 ~/.kaggle/kaggle.json"
      ],
      "execution_count": 4,
      "outputs": []
    },
    {
      "cell_type": "code",
      "metadata": {
        "id": "rPZaJ7oOGuyh",
        "colab": {
          "base_uri": "https://localhost:8080/"
        },
        "outputId": "eb768dc9-b0c7-4d3e-d135-e8637868d8d1"
      },
      "source": [
        "# List available datasets.\n",
        "!kaggle datasets list"
      ],
      "execution_count": 5,
      "outputs": [
        {
          "output_type": "stream",
          "text": [
            "Warning: Looks like you're using an outdated API Version, please consider updating (server 1.5.12 / client 1.5.4)\n",
            "ref                                                           title                                              size  lastUpdated          downloadCount  \n",
            "------------------------------------------------------------  ------------------------------------------------  -----  -------------------  -------------  \n",
            "gpreda/reddit-vaccine-myths                                   Reddit Vaccine Myths                              232KB  2021-06-26 07:50:27           8349  \n",
            "crowww/a-large-scale-fish-dataset                             A Large Scale Fish Dataset                          3GB  2021-04-28 17:03:01           5104  \n",
            "imsparsh/musicnet-dataset                                     MusicNet Dataset                                   22GB  2021-02-18 14:12:19           1736  \n",
            "promptcloud/careerbuilder-job-listing-2020                    Careerbuilder Job Listing 2020                     42MB  2021-03-05 06:59:52           1165  \n",
            "coloradokb/dandelionimages                                    DandelionImages                                     4GB  2021-02-19 20:03:47            568  \n",
            "nickuzmenkov/nih-chest-xrays-tfrecords                        NIH Chest X-rays TFRecords                         11GB  2021-03-09 04:49:23            647  \n",
            "fatiimaezzahra/famous-iconic-women                            Famous Iconic Women                               838MB  2021-02-28 14:56:00            849  \n",
            "dhruvildave/wikibooks-dataset                                 Wikibooks Dataset                                   1GB  2021-06-21 13:35:12           2296  \n",
            "mathurinache/twitter-edge-nodes                               Twitter Edge Nodes                                342MB  2021-03-08 06:43:04            567  \n",
            "alsgroup/end-als                                              End ALS Kaggle Challenge                           12GB  2021-04-08 12:16:37            744  \n",
            "simiotic/github-code-snippets                                 GitHub Code Snippets                                7GB  2021-03-03 11:34:39            180  \n",
            "landrykezebou/lvzhdr-tone-mapping-benchmark-dataset-tmonet    LVZ-HDR Tone Mapping Benchmark Dataset (TMO-Net)   24GB  2021-03-01 05:03:40            135  \n",
            "mathurinache/the-lj-speech-dataset                            The LJ Speech Dataset                               3GB  2021-02-15 09:19:54            209  \n",
            "imsparsh/accentdb-core-extended                               AccentDB - Core & Extended                          6GB  2021-02-17 14:22:54             86  \n",
            "nickuzmenkov/ranzcr-clip-kfold-tfrecords                      RANZCR CLiP KFold TFRecords                         2GB  2021-02-21 13:29:51             93  \n",
            "stuartjames/lights                                            LightS: Light Specularity Dataset                  18GB  2021-02-18 14:32:26             83  \n",
            "jessicali9530/animal-crossing-new-horizons-nookplaza-dataset  Animal Crossing New Horizons Catalog              577KB  2021-06-08 15:05:09           4162  \n",
            "datasnaek/youtube-new                                         Trending YouTube Video Statistics                 201MB  2019-06-03 00:56:47         143340  \n",
            "zynicide/wine-reviews                                         Wine Reviews                                       51MB  2017-11-27 17:08:04         139078  \n",
            "residentmario/ramen-ratings                                   Ramen Ratings                                      40KB  2018-01-11 16:04:39          24380  \n"
          ],
          "name": "stdout"
        }
      ]
    },
    {
      "cell_type": "code",
      "metadata": {
        "id": "0hyJ4Rb5HMwH",
        "colab": {
          "base_uri": "https://localhost:8080/"
        },
        "outputId": "6f519fee-4f93-401d-9615-8032abec91a4"
      },
      "source": [
        "# Copy the stackoverflow data set locally.\n",
        "!kaggle datasets download -d lakshmi25npathi/imdb-dataset-of-50k-movie-reviews"
      ],
      "execution_count": 6,
      "outputs": [
        {
          "output_type": "stream",
          "text": [
            "Downloading imdb-dataset-of-50k-movie-reviews.zip to /content\n",
            " 62% 16.0M/25.7M [00:00<00:00, 76.0MB/s]\n",
            "100% 25.7M/25.7M [00:00<00:00, 100MB/s] \n"
          ],
          "name": "stdout"
        }
      ]
    },
    {
      "cell_type": "code",
      "metadata": {
        "id": "8FgC4GlvHZQ1",
        "colab": {
          "base_uri": "https://localhost:8080/"
        },
        "outputId": "657aa1b2-f824-4152-dc6a-22cd47e3330d"
      },
      "source": [
        "!ls\n"
      ],
      "execution_count": 7,
      "outputs": [
        {
          "output_type": "stream",
          "text": [
            "imdb-dataset-of-50k-movie-reviews.zip  kaggle.json  sample_data\n"
          ],
          "name": "stdout"
        }
      ]
    },
    {
      "cell_type": "code",
      "metadata": {
        "colab": {
          "base_uri": "https://localhost:8080/"
        },
        "id": "ed5lh1C0OVpJ",
        "outputId": "51d92e1c-3a42-4094-b0ac-855f1ee9b2a3"
      },
      "source": [
        "!unzip imdb-dataset-of-50k-movie-reviews.zip"
      ],
      "execution_count": 8,
      "outputs": [
        {
          "output_type": "stream",
          "text": [
            "Archive:  imdb-dataset-of-50k-movie-reviews.zip\n",
            "  inflating: IMDB Dataset.csv        \n"
          ],
          "name": "stdout"
        }
      ]
    },
    {
      "cell_type": "code",
      "metadata": {
        "colab": {
          "base_uri": "https://localhost:8080/"
        },
        "id": "75I8VfHpOY78",
        "outputId": "5e8e2345-7949-41b7-f493-96c27b51085b"
      },
      "source": [
        "!ls"
      ],
      "execution_count": 9,
      "outputs": [
        {
          "output_type": "stream",
          "text": [
            "'IMDB Dataset.csv'\t\t\t kaggle.json\n",
            " imdb-dataset-of-50k-movie-reviews.zip\t sample_data\n"
          ],
          "name": "stdout"
        }
      ]
    },
    {
      "cell_type": "code",
      "metadata": {
        "id": "SAWYERMAOa-9",
        "colab": {
          "base_uri": "https://localhost:8080/"
        },
        "outputId": "2cd1f69f-1e40-4567-9347-9a2239766969"
      },
      "source": [
        "import pandas as pd\n",
        "import nltk\n",
        "import numpy as np\n",
        "from nltk.corpus import stopwords\n",
        "nltk.download('wordnet')\n",
        "nltk.download('punkt')\n",
        "nltk.download('stopwords')\n",
        "import spacy\n",
        "from spacy.lang.en.stop_words import STOP_WORDS"
      ],
      "execution_count": 66,
      "outputs": [
        {
          "output_type": "stream",
          "text": [
            "[nltk_data] Downloading package wordnet to /root/nltk_data...\n",
            "[nltk_data]   Package wordnet is already up-to-date!\n",
            "[nltk_data] Downloading package punkt to /root/nltk_data...\n",
            "[nltk_data]   Package punkt is already up-to-date!\n",
            "[nltk_data] Downloading package stopwords to /root/nltk_data...\n",
            "[nltk_data]   Package stopwords is already up-to-date!\n"
          ],
          "name": "stdout"
        }
      ]
    },
    {
      "cell_type": "code",
      "metadata": {
        "id": "tRqWit_sOghH"
      },
      "source": [
        "df = pd.read_csv('IMDB Dataset.csv')"
      ],
      "execution_count": 11,
      "outputs": []
    },
    {
      "cell_type": "code",
      "metadata": {
        "colab": {
          "base_uri": "https://localhost:8080/",
          "height": 206
        },
        "id": "LXXxjTNNOnAp",
        "outputId": "fba82ea5-1bd2-4944-f2b0-b0dc1c5085b4"
      },
      "source": [
        "df.head()"
      ],
      "execution_count": 12,
      "outputs": [
        {
          "output_type": "execute_result",
          "data": {
            "text/html": [
              "<div>\n",
              "<style scoped>\n",
              "    .dataframe tbody tr th:only-of-type {\n",
              "        vertical-align: middle;\n",
              "    }\n",
              "\n",
              "    .dataframe tbody tr th {\n",
              "        vertical-align: top;\n",
              "    }\n",
              "\n",
              "    .dataframe thead th {\n",
              "        text-align: right;\n",
              "    }\n",
              "</style>\n",
              "<table border=\"1\" class=\"dataframe\">\n",
              "  <thead>\n",
              "    <tr style=\"text-align: right;\">\n",
              "      <th></th>\n",
              "      <th>review</th>\n",
              "      <th>sentiment</th>\n",
              "    </tr>\n",
              "  </thead>\n",
              "  <tbody>\n",
              "    <tr>\n",
              "      <th>0</th>\n",
              "      <td>One of the other reviewers has mentioned that ...</td>\n",
              "      <td>positive</td>\n",
              "    </tr>\n",
              "    <tr>\n",
              "      <th>1</th>\n",
              "      <td>A wonderful little production. &lt;br /&gt;&lt;br /&gt;The...</td>\n",
              "      <td>positive</td>\n",
              "    </tr>\n",
              "    <tr>\n",
              "      <th>2</th>\n",
              "      <td>I thought this was a wonderful way to spend ti...</td>\n",
              "      <td>positive</td>\n",
              "    </tr>\n",
              "    <tr>\n",
              "      <th>3</th>\n",
              "      <td>Basically there's a family where a little boy ...</td>\n",
              "      <td>negative</td>\n",
              "    </tr>\n",
              "    <tr>\n",
              "      <th>4</th>\n",
              "      <td>Petter Mattei's \"Love in the Time of Money\" is...</td>\n",
              "      <td>positive</td>\n",
              "    </tr>\n",
              "  </tbody>\n",
              "</table>\n",
              "</div>"
            ],
            "text/plain": [
              "                                              review sentiment\n",
              "0  One of the other reviewers has mentioned that ...  positive\n",
              "1  A wonderful little production. <br /><br />The...  positive\n",
              "2  I thought this was a wonderful way to spend ti...  positive\n",
              "3  Basically there's a family where a little boy ...  negative\n",
              "4  Petter Mattei's \"Love in the Time of Money\" is...  positive"
            ]
          },
          "metadata": {
            "tags": []
          },
          "execution_count": 12
        }
      ]
    },
    {
      "cell_type": "code",
      "metadata": {
        "colab": {
          "base_uri": "https://localhost:8080/"
        },
        "id": "3U66G7GVOtqo",
        "outputId": "c5ecf3d5-186b-46a1-bf26-07e1f0243d58"
      },
      "source": [
        "df.sentiment.unique()"
      ],
      "execution_count": 13,
      "outputs": [
        {
          "output_type": "execute_result",
          "data": {
            "text/plain": [
              "array(['positive', 'negative'], dtype=object)"
            ]
          },
          "metadata": {
            "tags": []
          },
          "execution_count": 13
        }
      ]
    },
    {
      "cell_type": "code",
      "metadata": {
        "colab": {
          "base_uri": "https://localhost:8080/"
        },
        "id": "PL7gdMOJOyDc",
        "outputId": "7d9a9e55-0967-4c32-f3ff-5b547aada669"
      },
      "source": [
        "len(df)"
      ],
      "execution_count": 14,
      "outputs": [
        {
          "output_type": "execute_result",
          "data": {
            "text/plain": [
              "50000"
            ]
          },
          "metadata": {
            "tags": []
          },
          "execution_count": 14
        }
      ]
    },
    {
      "cell_type": "code",
      "metadata": {
        "colab": {
          "base_uri": "https://localhost:8080/",
          "height": 209
        },
        "id": "kAIqfW2iSFKB",
        "outputId": "e1a9eeae-816b-4792-ab92-caa193e7a10a"
      },
      "source": [
        "df.review[5000]"
      ],
      "execution_count": 15,
      "outputs": [
        {
          "output_type": "execute_result",
          "data": {
            "application/vnd.google.colaboratory.intrinsic+json": {
              "type": "string"
            },
            "text/plain": [
              "\"Not a movie for everyone, but this movie is in my top 10. I am a lover of black comedy. With a cast including Richard Dreyfus (Vic), Jeff Goldblum (Mick), Larry Bishop (Nick) and Gabriel Byrne (Ben 'Brass Balls' London) in the leads, the lines can't help but be dry. The supporting cast is nearly dead center. Counting the minor flaws in the movie: Ellen Barkin's make-up gave her face has a washed out look; there were a couple of gimme cameos by Joey Bishop and Richard Pryor that served no purpose, and Michael J. Pollard's screen time was too short. Over all, the cast was just incredible without egos to wreck a fine script. If you have seen Larry Bishop's (writer, director) film, Underworld (a dark crime flick), you will enjoy this one. His next outing (writer, director, actor) is Hell Ride with Michael Madsen and Quentin Tarantino.\""
            ]
          },
          "metadata": {
            "tags": []
          },
          "execution_count": 15
        }
      ]
    },
    {
      "cell_type": "code",
      "metadata": {
        "id": "niatej7gSm1d"
      },
      "source": [
        "import seaborn as sns\n",
        "import matplotlib.pyplot as plt\n",
        "import re\n"
      ],
      "execution_count": 16,
      "outputs": []
    },
    {
      "cell_type": "code",
      "metadata": {
        "id": "cR_KwildhVyx"
      },
      "source": [
        "df['sentiment'] = df['sentiment'].replace({'positive':0, 'negative':1})\n",
        "    "
      ],
      "execution_count": 17,
      "outputs": []
    },
    {
      "cell_type": "code",
      "metadata": {
        "colab": {
          "base_uri": "https://localhost:8080/"
        },
        "id": "ZlWXjiMJhi2W",
        "outputId": "18d7233a-381b-40f7-93d7-02ce32132724"
      },
      "source": [
        "df['sentiment']"
      ],
      "execution_count": 18,
      "outputs": [
        {
          "output_type": "execute_result",
          "data": {
            "text/plain": [
              "0        0\n",
              "1        0\n",
              "2        0\n",
              "3        1\n",
              "4        0\n",
              "        ..\n",
              "49995    0\n",
              "49996    1\n",
              "49997    1\n",
              "49998    1\n",
              "49999    1\n",
              "Name: sentiment, Length: 50000, dtype: int64"
            ]
          },
          "metadata": {
            "tags": []
          },
          "execution_count": 18
        }
      ]
    },
    {
      "cell_type": "code",
      "metadata": {
        "colab": {
          "base_uri": "https://localhost:8080/",
          "height": 206
        },
        "id": "51kKl85Tkn6l",
        "outputId": "d5b80f7f-7f26-4672-f0ae-31ca2b0b576c"
      },
      "source": [
        "df.head()"
      ],
      "execution_count": 19,
      "outputs": [
        {
          "output_type": "execute_result",
          "data": {
            "text/html": [
              "<div>\n",
              "<style scoped>\n",
              "    .dataframe tbody tr th:only-of-type {\n",
              "        vertical-align: middle;\n",
              "    }\n",
              "\n",
              "    .dataframe tbody tr th {\n",
              "        vertical-align: top;\n",
              "    }\n",
              "\n",
              "    .dataframe thead th {\n",
              "        text-align: right;\n",
              "    }\n",
              "</style>\n",
              "<table border=\"1\" class=\"dataframe\">\n",
              "  <thead>\n",
              "    <tr style=\"text-align: right;\">\n",
              "      <th></th>\n",
              "      <th>review</th>\n",
              "      <th>sentiment</th>\n",
              "    </tr>\n",
              "  </thead>\n",
              "  <tbody>\n",
              "    <tr>\n",
              "      <th>0</th>\n",
              "      <td>One of the other reviewers has mentioned that ...</td>\n",
              "      <td>0</td>\n",
              "    </tr>\n",
              "    <tr>\n",
              "      <th>1</th>\n",
              "      <td>A wonderful little production. &lt;br /&gt;&lt;br /&gt;The...</td>\n",
              "      <td>0</td>\n",
              "    </tr>\n",
              "    <tr>\n",
              "      <th>2</th>\n",
              "      <td>I thought this was a wonderful way to spend ti...</td>\n",
              "      <td>0</td>\n",
              "    </tr>\n",
              "    <tr>\n",
              "      <th>3</th>\n",
              "      <td>Basically there's a family where a little boy ...</td>\n",
              "      <td>1</td>\n",
              "    </tr>\n",
              "    <tr>\n",
              "      <th>4</th>\n",
              "      <td>Petter Mattei's \"Love in the Time of Money\" is...</td>\n",
              "      <td>0</td>\n",
              "    </tr>\n",
              "  </tbody>\n",
              "</table>\n",
              "</div>"
            ],
            "text/plain": [
              "                                              review  sentiment\n",
              "0  One of the other reviewers has mentioned that ...          0\n",
              "1  A wonderful little production. <br /><br />The...          0\n",
              "2  I thought this was a wonderful way to spend ti...          0\n",
              "3  Basically there's a family where a little boy ...          1\n",
              "4  Petter Mattei's \"Love in the Time of Money\" is...          0"
            ]
          },
          "metadata": {
            "tags": []
          },
          "execution_count": 19
        }
      ]
    },
    {
      "cell_type": "code",
      "metadata": {
        "id": "Z2qe4eGo31jW"
      },
      "source": [
        "sentence = '<html>  <br/>,  br,  <br />'"
      ],
      "execution_count": 20,
      "outputs": []
    },
    {
      "cell_type": "code",
      "metadata": {
        "colab": {
          "base_uri": "https://localhost:8080/"
        },
        "id": "FgFLM91731PJ",
        "outputId": "d68115d9-71de-4f62-ae34-3f328b9b990a"
      },
      "source": [
        "print(re.sub('<([A-Za-z0-9_]+)','', sentence))"
      ],
      "execution_count": 21,
      "outputs": [
        {
          "output_type": "stream",
          "text": [
            ">  />,  br,   />\n"
          ],
          "name": "stdout"
        }
      ]
    },
    {
      "cell_type": "code",
      "metadata": {
        "id": "ZDoVNdv4ku_F"
      },
      "source": [
        "\n",
        "def clean1(text):\n",
        "  text = re.sub('<([A-Za-z0-9_]+)','', text)\n",
        "  text = re.sub('[-~!@#$%^&<>?\"\"/\"\\'\":+=,\"\\.\"\\)\"\"\\(\"]', '', text)\n",
        "  text = re.sub('\\s+', ' ', text)\n",
        "  # text = re.sub('<.*?\"\\s\">','', text)\n",
        "  text = re.sub('^\\s', '', text)\n",
        "  text = re.sub('\\s$', '', text)\n",
        "  text = re.sub('\\d', '', text)\n",
        "  return text.lower()"
      ],
      "execution_count": 22,
      "outputs": []
    },
    {
      "cell_type": "code",
      "metadata": {
        "id": "mvJv5ghfu2TA"
      },
      "source": [
        "import string\n",
        "def clean2(text):\n",
        "    text = re.sub('[%s]' % re.escape(string.punctuation), '', text)\n",
        "    return text"
      ],
      "execution_count": 23,
      "outputs": []
    },
    {
      "cell_type": "code",
      "metadata": {
        "id": "FowLN4Qcllrq"
      },
      "source": [
        "text = \"\"\"Not <html/> a @bibek movie for everyone, but this movie is in my top 10. I am a lover of black comedy. With a cast including Richard Dreyfus (Vic), Jeff Goldblum (Mick), Larry Bishop (Nick) and Gabriel Byrne (Ben 'Brass Balls' London) in the leads, the lines can't help but be dry. The supporting cast is nearly dead center. Counting the minor flaws in the movie: Ellen Barkin's make-up gave her face has a washed out look; there were a couple of gimme cameos by Joey Bishop and Richard Pryor that served no purpose, and Michael J. Pollard's screen time was too short. Over all, the cast was just incredible without egos to wreck a fine script. If you have seen Larry Bishop's (writer, director) film, Underworld <br/> (a dark crime flick), you will enjoy this one. His next outing (writer, director, actor) is Hell Ride with Michael Madsen and Quentin Tarantino.\n",
        "\"\"\""
      ],
      "execution_count": 24,
      "outputs": []
    },
    {
      "cell_type": "code",
      "metadata": {
        "id": "4oledxjcltTU"
      },
      "source": [
        "ok = clean1(text)\n",
        "ok = clean2(ok)"
      ],
      "execution_count": 25,
      "outputs": []
    },
    {
      "cell_type": "code",
      "metadata": {
        "id": "01iIUWkHlxCJ"
      },
      "source": [
        "df['clean'] = df['review'].apply(clean1)\n",
        "df['clean']  = df['clean'].apply(clean2)"
      ],
      "execution_count": 26,
      "outputs": []
    },
    {
      "cell_type": "code",
      "metadata": {
        "colab": {
          "base_uri": "https://localhost:8080/",
          "height": 293
        },
        "id": "NUlTBASbuxAB",
        "outputId": "91da174f-9071-4467-ab0b-a0cb816b0ad9"
      },
      "source": [
        "df.head()"
      ],
      "execution_count": 27,
      "outputs": [
        {
          "output_type": "execute_result",
          "data": {
            "text/html": [
              "<div>\n",
              "<style scoped>\n",
              "    .dataframe tbody tr th:only-of-type {\n",
              "        vertical-align: middle;\n",
              "    }\n",
              "\n",
              "    .dataframe tbody tr th {\n",
              "        vertical-align: top;\n",
              "    }\n",
              "\n",
              "    .dataframe thead th {\n",
              "        text-align: right;\n",
              "    }\n",
              "</style>\n",
              "<table border=\"1\" class=\"dataframe\">\n",
              "  <thead>\n",
              "    <tr style=\"text-align: right;\">\n",
              "      <th></th>\n",
              "      <th>review</th>\n",
              "      <th>sentiment</th>\n",
              "      <th>clean</th>\n",
              "    </tr>\n",
              "  </thead>\n",
              "  <tbody>\n",
              "    <tr>\n",
              "      <th>0</th>\n",
              "      <td>One of the other reviewers has mentioned that ...</td>\n",
              "      <td>0</td>\n",
              "      <td>one of the other reviewers has mentioned that ...</td>\n",
              "    </tr>\n",
              "    <tr>\n",
              "      <th>1</th>\n",
              "      <td>A wonderful little production. &lt;br /&gt;&lt;br /&gt;The...</td>\n",
              "      <td>0</td>\n",
              "      <td>a wonderful little production the filming tech...</td>\n",
              "    </tr>\n",
              "    <tr>\n",
              "      <th>2</th>\n",
              "      <td>I thought this was a wonderful way to spend ti...</td>\n",
              "      <td>0</td>\n",
              "      <td>i thought this was a wonderful way to spend ti...</td>\n",
              "    </tr>\n",
              "    <tr>\n",
              "      <th>3</th>\n",
              "      <td>Basically there's a family where a little boy ...</td>\n",
              "      <td>1</td>\n",
              "      <td>basically theres a family where a little boy j...</td>\n",
              "    </tr>\n",
              "    <tr>\n",
              "      <th>4</th>\n",
              "      <td>Petter Mattei's \"Love in the Time of Money\" is...</td>\n",
              "      <td>0</td>\n",
              "      <td>petter matteis love in the time of money is a ...</td>\n",
              "    </tr>\n",
              "  </tbody>\n",
              "</table>\n",
              "</div>"
            ],
            "text/plain": [
              "                                              review  ...                                              clean\n",
              "0  One of the other reviewers has mentioned that ...  ...  one of the other reviewers has mentioned that ...\n",
              "1  A wonderful little production. <br /><br />The...  ...  a wonderful little production the filming tech...\n",
              "2  I thought this was a wonderful way to spend ti...  ...  i thought this was a wonderful way to spend ti...\n",
              "3  Basically there's a family where a little boy ...  ...  basically theres a family where a little boy j...\n",
              "4  Petter Mattei's \"Love in the Time of Money\" is...  ...  petter matteis love in the time of money is a ...\n",
              "\n",
              "[5 rows x 3 columns]"
            ]
          },
          "metadata": {
            "tags": []
          },
          "execution_count": 27
        }
      ]
    },
    {
      "cell_type": "code",
      "metadata": {
        "id": "WvXgzVKeu5hL"
      },
      "source": [
        "def word_token(text):\n",
        "  text = [''.join(word) for word in nltk.word_tokenize(text)]\n",
        "  return text"
      ],
      "execution_count": 28,
      "outputs": []
    },
    {
      "cell_type": "code",
      "metadata": {
        "colab": {
          "base_uri": "https://localhost:8080/",
          "height": 380
        },
        "id": "JOPje01my86L",
        "outputId": "8f549f3d-aee4-4c75-aaa2-595bc7a1af39"
      },
      "source": [
        "df['token_words'] = df['clean'].apply(word_token)\n",
        "df.head()"
      ],
      "execution_count": 29,
      "outputs": [
        {
          "output_type": "execute_result",
          "data": {
            "text/html": [
              "<div>\n",
              "<style scoped>\n",
              "    .dataframe tbody tr th:only-of-type {\n",
              "        vertical-align: middle;\n",
              "    }\n",
              "\n",
              "    .dataframe tbody tr th {\n",
              "        vertical-align: top;\n",
              "    }\n",
              "\n",
              "    .dataframe thead th {\n",
              "        text-align: right;\n",
              "    }\n",
              "</style>\n",
              "<table border=\"1\" class=\"dataframe\">\n",
              "  <thead>\n",
              "    <tr style=\"text-align: right;\">\n",
              "      <th></th>\n",
              "      <th>review</th>\n",
              "      <th>sentiment</th>\n",
              "      <th>clean</th>\n",
              "      <th>token_words</th>\n",
              "    </tr>\n",
              "  </thead>\n",
              "  <tbody>\n",
              "    <tr>\n",
              "      <th>0</th>\n",
              "      <td>One of the other reviewers has mentioned that ...</td>\n",
              "      <td>0</td>\n",
              "      <td>one of the other reviewers has mentioned that ...</td>\n",
              "      <td>[one, of, the, other, reviewers, has, mentione...</td>\n",
              "    </tr>\n",
              "    <tr>\n",
              "      <th>1</th>\n",
              "      <td>A wonderful little production. &lt;br /&gt;&lt;br /&gt;The...</td>\n",
              "      <td>0</td>\n",
              "      <td>a wonderful little production the filming tech...</td>\n",
              "      <td>[a, wonderful, little, production, the, filmin...</td>\n",
              "    </tr>\n",
              "    <tr>\n",
              "      <th>2</th>\n",
              "      <td>I thought this was a wonderful way to spend ti...</td>\n",
              "      <td>0</td>\n",
              "      <td>i thought this was a wonderful way to spend ti...</td>\n",
              "      <td>[i, thought, this, was, a, wonderful, way, to,...</td>\n",
              "    </tr>\n",
              "    <tr>\n",
              "      <th>3</th>\n",
              "      <td>Basically there's a family where a little boy ...</td>\n",
              "      <td>1</td>\n",
              "      <td>basically theres a family where a little boy j...</td>\n",
              "      <td>[basically, theres, a, family, where, a, littl...</td>\n",
              "    </tr>\n",
              "    <tr>\n",
              "      <th>4</th>\n",
              "      <td>Petter Mattei's \"Love in the Time of Money\" is...</td>\n",
              "      <td>0</td>\n",
              "      <td>petter matteis love in the time of money is a ...</td>\n",
              "      <td>[petter, matteis, love, in, the, time, of, mon...</td>\n",
              "    </tr>\n",
              "  </tbody>\n",
              "</table>\n",
              "</div>"
            ],
            "text/plain": [
              "                                              review  ...                                        token_words\n",
              "0  One of the other reviewers has mentioned that ...  ...  [one, of, the, other, reviewers, has, mentione...\n",
              "1  A wonderful little production. <br /><br />The...  ...  [a, wonderful, little, production, the, filmin...\n",
              "2  I thought this was a wonderful way to spend ti...  ...  [i, thought, this, was, a, wonderful, way, to,...\n",
              "3  Basically there's a family where a little boy ...  ...  [basically, theres, a, family, where, a, littl...\n",
              "4  Petter Mattei's \"Love in the Time of Money\" is...  ...  [petter, matteis, love, in, the, time, of, mon...\n",
              "\n",
              "[5 rows x 4 columns]"
            ]
          },
          "metadata": {
            "tags": []
          },
          "execution_count": 29
        }
      ]
    },
    {
      "cell_type": "code",
      "metadata": {
        "colab": {
          "base_uri": "https://localhost:8080/",
          "height": 415
        },
        "id": "8YMrlkD6pu30",
        "outputId": "4a35a56e-1d9c-4330-8b2c-1bc0c8c48308"
      },
      "source": [
        "def stopwords_removel(text):\n",
        "    text = [word for word in text if word not in STOP_WORDS]\n",
        "    return text\n",
        "\n",
        "df['clean_words'] =df['token_words'].apply(stopwords_removel)\n",
        "df.head()"
      ],
      "execution_count": 30,
      "outputs": [
        {
          "output_type": "execute_result",
          "data": {
            "text/html": [
              "<div>\n",
              "<style scoped>\n",
              "    .dataframe tbody tr th:only-of-type {\n",
              "        vertical-align: middle;\n",
              "    }\n",
              "\n",
              "    .dataframe tbody tr th {\n",
              "        vertical-align: top;\n",
              "    }\n",
              "\n",
              "    .dataframe thead th {\n",
              "        text-align: right;\n",
              "    }\n",
              "</style>\n",
              "<table border=\"1\" class=\"dataframe\">\n",
              "  <thead>\n",
              "    <tr style=\"text-align: right;\">\n",
              "      <th></th>\n",
              "      <th>review</th>\n",
              "      <th>sentiment</th>\n",
              "      <th>clean</th>\n",
              "      <th>token_words</th>\n",
              "      <th>clean_words</th>\n",
              "    </tr>\n",
              "  </thead>\n",
              "  <tbody>\n",
              "    <tr>\n",
              "      <th>0</th>\n",
              "      <td>One of the other reviewers has mentioned that ...</td>\n",
              "      <td>0</td>\n",
              "      <td>one of the other reviewers has mentioned that ...</td>\n",
              "      <td>[one, of, the, other, reviewers, has, mentione...</td>\n",
              "      <td>[reviewers, mentioned, watching, oz, episode, ...</td>\n",
              "    </tr>\n",
              "    <tr>\n",
              "      <th>1</th>\n",
              "      <td>A wonderful little production. &lt;br /&gt;&lt;br /&gt;The...</td>\n",
              "      <td>0</td>\n",
              "      <td>a wonderful little production the filming tech...</td>\n",
              "      <td>[a, wonderful, little, production, the, filmin...</td>\n",
              "      <td>[wonderful, little, production, filming, techn...</td>\n",
              "    </tr>\n",
              "    <tr>\n",
              "      <th>2</th>\n",
              "      <td>I thought this was a wonderful way to spend ti...</td>\n",
              "      <td>0</td>\n",
              "      <td>i thought this was a wonderful way to spend ti...</td>\n",
              "      <td>[i, thought, this, was, a, wonderful, way, to,...</td>\n",
              "      <td>[thought, wonderful, way, spend, time, hot, su...</td>\n",
              "    </tr>\n",
              "    <tr>\n",
              "      <th>3</th>\n",
              "      <td>Basically there's a family where a little boy ...</td>\n",
              "      <td>1</td>\n",
              "      <td>basically theres a family where a little boy j...</td>\n",
              "      <td>[basically, theres, a, family, where, a, littl...</td>\n",
              "      <td>[basically, theres, family, little, boy, jake,...</td>\n",
              "    </tr>\n",
              "    <tr>\n",
              "      <th>4</th>\n",
              "      <td>Petter Mattei's \"Love in the Time of Money\" is...</td>\n",
              "      <td>0</td>\n",
              "      <td>petter matteis love in the time of money is a ...</td>\n",
              "      <td>[petter, matteis, love, in, the, time, of, mon...</td>\n",
              "      <td>[petter, matteis, love, time, money, visually,...</td>\n",
              "    </tr>\n",
              "  </tbody>\n",
              "</table>\n",
              "</div>"
            ],
            "text/plain": [
              "                                              review  ...                                        clean_words\n",
              "0  One of the other reviewers has mentioned that ...  ...  [reviewers, mentioned, watching, oz, episode, ...\n",
              "1  A wonderful little production. <br /><br />The...  ...  [wonderful, little, production, filming, techn...\n",
              "2  I thought this was a wonderful way to spend ti...  ...  [thought, wonderful, way, spend, time, hot, su...\n",
              "3  Basically there's a family where a little boy ...  ...  [basically, theres, family, little, boy, jake,...\n",
              "4  Petter Mattei's \"Love in the Time of Money\" is...  ...  [petter, matteis, love, time, money, visually,...\n",
              "\n",
              "[5 rows x 5 columns]"
            ]
          },
          "metadata": {
            "tags": []
          },
          "execution_count": 30
        }
      ]
    },
    {
      "cell_type": "code",
      "metadata": {
        "id": "hoM-iJDPzIun"
      },
      "source": [
        "from nltk.stem import PorterStemmer\n",
        "stemmer = PorterStemmer()"
      ],
      "execution_count": 31,
      "outputs": []
    },
    {
      "cell_type": "code",
      "metadata": {
        "colab": {
          "base_uri": "https://localhost:8080/",
          "height": 571
        },
        "id": "owgWYnmc6YVl",
        "outputId": "73e89b2b-53a5-4f85-a53a-19d20f6d94a6"
      },
      "source": [
        "def word_stem(text):\n",
        "    text = [stemmer.stem(word) for word in text]\n",
        "    return text\n",
        "\n",
        "df['stem_words'] =df['clean_words'].apply(word_stem)\n",
        "df.head()"
      ],
      "execution_count": 32,
      "outputs": [
        {
          "output_type": "execute_result",
          "data": {
            "text/html": [
              "<div>\n",
              "<style scoped>\n",
              "    .dataframe tbody tr th:only-of-type {\n",
              "        vertical-align: middle;\n",
              "    }\n",
              "\n",
              "    .dataframe tbody tr th {\n",
              "        vertical-align: top;\n",
              "    }\n",
              "\n",
              "    .dataframe thead th {\n",
              "        text-align: right;\n",
              "    }\n",
              "</style>\n",
              "<table border=\"1\" class=\"dataframe\">\n",
              "  <thead>\n",
              "    <tr style=\"text-align: right;\">\n",
              "      <th></th>\n",
              "      <th>review</th>\n",
              "      <th>sentiment</th>\n",
              "      <th>clean</th>\n",
              "      <th>token_words</th>\n",
              "      <th>clean_words</th>\n",
              "      <th>stem_words</th>\n",
              "    </tr>\n",
              "  </thead>\n",
              "  <tbody>\n",
              "    <tr>\n",
              "      <th>0</th>\n",
              "      <td>One of the other reviewers has mentioned that ...</td>\n",
              "      <td>0</td>\n",
              "      <td>one of the other reviewers has mentioned that ...</td>\n",
              "      <td>[one, of, the, other, reviewers, has, mentione...</td>\n",
              "      <td>[reviewers, mentioned, watching, oz, episode, ...</td>\n",
              "      <td>[review, mention, watch, oz, episod, youll, ho...</td>\n",
              "    </tr>\n",
              "    <tr>\n",
              "      <th>1</th>\n",
              "      <td>A wonderful little production. &lt;br /&gt;&lt;br /&gt;The...</td>\n",
              "      <td>0</td>\n",
              "      <td>a wonderful little production the filming tech...</td>\n",
              "      <td>[a, wonderful, little, production, the, filmin...</td>\n",
              "      <td>[wonderful, little, production, filming, techn...</td>\n",
              "      <td>[wonder, littl, product, film, techniqu, unass...</td>\n",
              "    </tr>\n",
              "    <tr>\n",
              "      <th>2</th>\n",
              "      <td>I thought this was a wonderful way to spend ti...</td>\n",
              "      <td>0</td>\n",
              "      <td>i thought this was a wonderful way to spend ti...</td>\n",
              "      <td>[i, thought, this, was, a, wonderful, way, to,...</td>\n",
              "      <td>[thought, wonderful, way, spend, time, hot, su...</td>\n",
              "      <td>[thought, wonder, way, spend, time, hot, summe...</td>\n",
              "    </tr>\n",
              "    <tr>\n",
              "      <th>3</th>\n",
              "      <td>Basically there's a family where a little boy ...</td>\n",
              "      <td>1</td>\n",
              "      <td>basically theres a family where a little boy j...</td>\n",
              "      <td>[basically, theres, a, family, where, a, littl...</td>\n",
              "      <td>[basically, theres, family, little, boy, jake,...</td>\n",
              "      <td>[basic, there, famili, littl, boy, jake, think...</td>\n",
              "    </tr>\n",
              "    <tr>\n",
              "      <th>4</th>\n",
              "      <td>Petter Mattei's \"Love in the Time of Money\" is...</td>\n",
              "      <td>0</td>\n",
              "      <td>petter matteis love in the time of money is a ...</td>\n",
              "      <td>[petter, matteis, love, in, the, time, of, mon...</td>\n",
              "      <td>[petter, matteis, love, time, money, visually,...</td>\n",
              "      <td>[petter, mattei, love, time, money, visual, st...</td>\n",
              "    </tr>\n",
              "  </tbody>\n",
              "</table>\n",
              "</div>"
            ],
            "text/plain": [
              "                                              review  ...                                         stem_words\n",
              "0  One of the other reviewers has mentioned that ...  ...  [review, mention, watch, oz, episod, youll, ho...\n",
              "1  A wonderful little production. <br /><br />The...  ...  [wonder, littl, product, film, techniqu, unass...\n",
              "2  I thought this was a wonderful way to spend ti...  ...  [thought, wonder, way, spend, time, hot, summe...\n",
              "3  Basically there's a family where a little boy ...  ...  [basic, there, famili, littl, boy, jake, think...\n",
              "4  Petter Mattei's \"Love in the Time of Money\" is...  ...  [petter, mattei, love, time, money, visual, st...\n",
              "\n",
              "[5 rows x 6 columns]"
            ]
          },
          "metadata": {
            "tags": []
          },
          "execution_count": 32
        }
      ]
    },
    {
      "cell_type": "code",
      "metadata": {
        "id": "sBKtGZso8NRG",
        "colab": {
          "base_uri": "https://localhost:8080/",
          "height": 643
        },
        "outputId": "18477eb9-1d3d-4372-a9cc-7d2bf7fc8c97"
      },
      "source": [
        "from nltk.stem import WordNetLemmatizer\n",
        "lemantizer = WordNetLemmatizer()\n",
        "def word_lemantize(text):\n",
        "    text = ' '.join([lemantizer.lemmatize(word) for word in text])\n",
        "    return text\n",
        "\n",
        "df['lemantized_words'] =df['clean_words'].apply(word_lemantize)\n",
        "df.head()"
      ],
      "execution_count": 33,
      "outputs": [
        {
          "output_type": "execute_result",
          "data": {
            "text/html": [
              "<div>\n",
              "<style scoped>\n",
              "    .dataframe tbody tr th:only-of-type {\n",
              "        vertical-align: middle;\n",
              "    }\n",
              "\n",
              "    .dataframe tbody tr th {\n",
              "        vertical-align: top;\n",
              "    }\n",
              "\n",
              "    .dataframe thead th {\n",
              "        text-align: right;\n",
              "    }\n",
              "</style>\n",
              "<table border=\"1\" class=\"dataframe\">\n",
              "  <thead>\n",
              "    <tr style=\"text-align: right;\">\n",
              "      <th></th>\n",
              "      <th>review</th>\n",
              "      <th>sentiment</th>\n",
              "      <th>clean</th>\n",
              "      <th>token_words</th>\n",
              "      <th>clean_words</th>\n",
              "      <th>stem_words</th>\n",
              "      <th>lemantized_words</th>\n",
              "    </tr>\n",
              "  </thead>\n",
              "  <tbody>\n",
              "    <tr>\n",
              "      <th>0</th>\n",
              "      <td>One of the other reviewers has mentioned that ...</td>\n",
              "      <td>0</td>\n",
              "      <td>one of the other reviewers has mentioned that ...</td>\n",
              "      <td>[one, of, the, other, reviewers, has, mentione...</td>\n",
              "      <td>[reviewers, mentioned, watching, oz, episode, ...</td>\n",
              "      <td>[review, mention, watch, oz, episod, youll, ho...</td>\n",
              "      <td>reviewer mentioned watching oz episode youll h...</td>\n",
              "    </tr>\n",
              "    <tr>\n",
              "      <th>1</th>\n",
              "      <td>A wonderful little production. &lt;br /&gt;&lt;br /&gt;The...</td>\n",
              "      <td>0</td>\n",
              "      <td>a wonderful little production the filming tech...</td>\n",
              "      <td>[a, wonderful, little, production, the, filmin...</td>\n",
              "      <td>[wonderful, little, production, filming, techn...</td>\n",
              "      <td>[wonder, littl, product, film, techniqu, unass...</td>\n",
              "      <td>wonderful little production filming technique ...</td>\n",
              "    </tr>\n",
              "    <tr>\n",
              "      <th>2</th>\n",
              "      <td>I thought this was a wonderful way to spend ti...</td>\n",
              "      <td>0</td>\n",
              "      <td>i thought this was a wonderful way to spend ti...</td>\n",
              "      <td>[i, thought, this, was, a, wonderful, way, to,...</td>\n",
              "      <td>[thought, wonderful, way, spend, time, hot, su...</td>\n",
              "      <td>[thought, wonder, way, spend, time, hot, summe...</td>\n",
              "      <td>thought wonderful way spend time hot summer we...</td>\n",
              "    </tr>\n",
              "    <tr>\n",
              "      <th>3</th>\n",
              "      <td>Basically there's a family where a little boy ...</td>\n",
              "      <td>1</td>\n",
              "      <td>basically theres a family where a little boy j...</td>\n",
              "      <td>[basically, theres, a, family, where, a, littl...</td>\n",
              "      <td>[basically, theres, family, little, boy, jake,...</td>\n",
              "      <td>[basic, there, famili, littl, boy, jake, think...</td>\n",
              "      <td>basically there family little boy jake think t...</td>\n",
              "    </tr>\n",
              "    <tr>\n",
              "      <th>4</th>\n",
              "      <td>Petter Mattei's \"Love in the Time of Money\" is...</td>\n",
              "      <td>0</td>\n",
              "      <td>petter matteis love in the time of money is a ...</td>\n",
              "      <td>[petter, matteis, love, in, the, time, of, mon...</td>\n",
              "      <td>[petter, matteis, love, time, money, visually,...</td>\n",
              "      <td>[petter, mattei, love, time, money, visual, st...</td>\n",
              "      <td>petter matteis love time money visually stunni...</td>\n",
              "    </tr>\n",
              "  </tbody>\n",
              "</table>\n",
              "</div>"
            ],
            "text/plain": [
              "                                              review  ...                                   lemantized_words\n",
              "0  One of the other reviewers has mentioned that ...  ...  reviewer mentioned watching oz episode youll h...\n",
              "1  A wonderful little production. <br /><br />The...  ...  wonderful little production filming technique ...\n",
              "2  I thought this was a wonderful way to spend ti...  ...  thought wonderful way spend time hot summer we...\n",
              "3  Basically there's a family where a little boy ...  ...  basically there family little boy jake think t...\n",
              "4  Petter Mattei's \"Love in the Time of Money\" is...  ...  petter matteis love time money visually stunni...\n",
              "\n",
              "[5 rows x 7 columns]"
            ]
          },
          "metadata": {
            "tags": []
          },
          "execution_count": 33
        }
      ]
    },
    {
      "cell_type": "code",
      "metadata": {
        "id": "DCib6BpNQlbf"
      },
      "source": [
        "from wordcloud import WordCloud, STOPWORDS, ImageColorGenerator"
      ],
      "execution_count": 34,
      "outputs": []
    },
    {
      "cell_type": "code",
      "metadata": {
        "colab": {
          "base_uri": "https://localhost:8080/"
        },
        "id": "1L4MFZ8lRMt2",
        "outputId": "af0e8149-77f2-423a-bc2e-766f1f464c08"
      },
      "source": [
        "text_all = ''\n",
        "for lines in df['lemantized_words']:\n",
        "  text_all +=lines\n",
        "print(text_all)"
      ],
      "execution_count": 35,
      "outputs": [
        {
          "output_type": "stream",
          "text": [
            "IOPub data rate exceeded.\n",
            "The notebook server will temporarily stop sending output\n",
            "to the client in order to avoid crashing it.\n",
            "To change this limit, set the config variable\n",
            "`--NotebookApp.iopub_data_rate_limit`.\n",
            "\n",
            "Current values:\n",
            "NotebookApp.iopub_data_rate_limit=1000000.0 (bytes/sec)\n",
            "NotebookApp.rate_limit_window=3.0 (secs)\n",
            "\n"
          ],
          "name": "stderr"
        }
      ]
    },
    {
      "cell_type": "code",
      "metadata": {
        "id": "iWIPH8NXhhv4",
        "colab": {
          "base_uri": "https://localhost:8080/",
          "height": 198
        },
        "outputId": "a43f7b93-5d90-4431-9871-1a9c671693e8"
      },
      "source": [
        "wordcloud = WordCloud(stopwords=set(STOPWORDS), background_color=\"white\").generate(text_all)\n",
        "plt.imshow(wordcloud, interpolation='bilinear')\n",
        "plt.axis(\"off\")\n",
        "plt.show()"
      ],
      "execution_count": 36,
      "outputs": [
        {
          "output_type": "display_data",
          "data": {
            "image/png": "[encoded data removed]",
            "text/plain": [
              "<Figure size 432x288 with 1 Axes>"
            ]
          },
          "metadata": {
            "tags": [],
            "needs_background": "light"
          }
        }
      ]
    },
    {
      "cell_type": "code",
      "metadata": {
        "id": "oodydRrdirGw"
      },
      "source": [
        "df_clean = df[['lemantized_words', 'sentiment']].copy()"
      ],
      "execution_count": 37,
      "outputs": []
    },
    {
      "cell_type": "code",
      "metadata": {
        "colab": {
          "base_uri": "https://localhost:8080/",
          "height": 206
        },
        "id": "QtWLVzfdpQv6",
        "outputId": "31f2f82d-38fc-4aa3-a23a-aeffed029a6c"
      },
      "source": [
        "df_clean.head()"
      ],
      "execution_count": 38,
      "outputs": [
        {
          "output_type": "execute_result",
          "data": {
            "text/html": [
              "<div>\n",
              "<style scoped>\n",
              "    .dataframe tbody tr th:only-of-type {\n",
              "        vertical-align: middle;\n",
              "    }\n",
              "\n",
              "    .dataframe tbody tr th {\n",
              "        vertical-align: top;\n",
              "    }\n",
              "\n",
              "    .dataframe thead th {\n",
              "        text-align: right;\n",
              "    }\n",
              "</style>\n",
              "<table border=\"1\" class=\"dataframe\">\n",
              "  <thead>\n",
              "    <tr style=\"text-align: right;\">\n",
              "      <th></th>\n",
              "      <th>lemantized_words</th>\n",
              "      <th>sentiment</th>\n",
              "    </tr>\n",
              "  </thead>\n",
              "  <tbody>\n",
              "    <tr>\n",
              "      <th>0</th>\n",
              "      <td>reviewer mentioned watching oz episode youll h...</td>\n",
              "      <td>0</td>\n",
              "    </tr>\n",
              "    <tr>\n",
              "      <th>1</th>\n",
              "      <td>wonderful little production filming technique ...</td>\n",
              "      <td>0</td>\n",
              "    </tr>\n",
              "    <tr>\n",
              "      <th>2</th>\n",
              "      <td>thought wonderful way spend time hot summer we...</td>\n",
              "      <td>0</td>\n",
              "    </tr>\n",
              "    <tr>\n",
              "      <th>3</th>\n",
              "      <td>basically there family little boy jake think t...</td>\n",
              "      <td>1</td>\n",
              "    </tr>\n",
              "    <tr>\n",
              "      <th>4</th>\n",
              "      <td>petter matteis love time money visually stunni...</td>\n",
              "      <td>0</td>\n",
              "    </tr>\n",
              "  </tbody>\n",
              "</table>\n",
              "</div>"
            ],
            "text/plain": [
              "                                    lemantized_words  sentiment\n",
              "0  reviewer mentioned watching oz episode youll h...          0\n",
              "1  wonderful little production filming technique ...          0\n",
              "2  thought wonderful way spend time hot summer we...          0\n",
              "3  basically there family little boy jake think t...          1\n",
              "4  petter matteis love time money visually stunni...          0"
            ]
          },
          "metadata": {
            "tags": []
          },
          "execution_count": 38
        }
      ]
    },
    {
      "cell_type": "code",
      "metadata": {
        "id": "ttkBSBUmpX3Y"
      },
      "source": [
        "df_clean.columns = ['data', 'label']"
      ],
      "execution_count": 39,
      "outputs": []
    },
    {
      "cell_type": "code",
      "metadata": {
        "id": "TMgz54ZRjm3i"
      },
      "source": [
        "df_clean.to_csv('data.csv', index=False)"
      ],
      "execution_count": 40,
      "outputs": []
    },
    {
      "cell_type": "code",
      "metadata": {
        "colab": {
          "base_uri": "https://localhost:8080/"
        },
        "id": "IoC_yk8djoND",
        "outputId": "9b56b271-9c44-4ad6-a308-4a59dcde978b"
      },
      "source": [
        "!ls"
      ],
      "execution_count": 41,
      "outputs": [
        {
          "output_type": "stream",
          "text": [
            " data.csv\t     imdb-dataset-of-50k-movie-reviews.zip   sample_data\n",
            "'IMDB Dataset.csv'   kaggle.json\n"
          ],
          "name": "stdout"
        }
      ]
    },
    {
      "cell_type": "code",
      "metadata": {
        "id": "iPe8gBcsj7Uq"
      },
      "source": [
        "import torch\n",
        "import torchtext\n",
        "import torchtext.legacy.data as ttd\n",
        "from datetime import datetime\n",
        "import torch.nn as nn\n",
        "from datetime import datetime"
      ],
      "execution_count": 56,
      "outputs": []
    },
    {
      "cell_type": "code",
      "metadata": {
        "id": "-7r02XkfkPqt"
      },
      "source": [
        "TEXT = ttd.Field(\n",
        "   sequential=True,\n",
        "   use_vocab=True, \n",
        "   lower = True,\n",
        "   tokenize='spacy',\n",
        "   batch_first=True,\n",
        "   pad_first=True,\n",
        ")\n",
        "LABEL = ttd.Field(\n",
        "    sequential=False,\n",
        "    use_vocab=False,\n",
        "    is_target=True\n",
        ")"
      ],
      "execution_count": 43,
      "outputs": []
    },
    {
      "cell_type": "code",
      "metadata": {
        "id": "LuhQ-CwolFoo"
      },
      "source": [
        "dataset = ttd.TabularDataset(\n",
        "    path='data.csv',\n",
        "    format='csv',\n",
        "    skip_header=True,\n",
        "    fields=[('data', TEXT), ('label', LABEL)]\n",
        ")"
      ],
      "execution_count": 44,
      "outputs": []
    },
    {
      "cell_type": "code",
      "metadata": {
        "id": "WHzETgBVli3e"
      },
      "source": [
        "train_dataset, test_dataset = dataset.split(0.7)"
      ],
      "execution_count": 45,
      "outputs": []
    },
    {
      "cell_type": "code",
      "metadata": {
        "id": "_8Hi6Ar2l10l"
      },
      "source": [
        "TEXT.build_vocab(train_dataset,)"
      ],
      "execution_count": 46,
      "outputs": []
    },
    {
      "cell_type": "code",
      "metadata": {
        "colab": {
          "base_uri": "https://localhost:8080/"
        },
        "id": "EcmqBGeiUAMR",
        "outputId": "958f37a9-1c6e-4750-acf0-ee60679b3dd6"
      },
      "source": [
        "vocab = TEXT.vocab\n",
        "vocab.stoi"
      ],
      "execution_count": 47,
      "outputs": [
        {
          "output_type": "execute_result",
          "data": {
            "text/plain": [
              "defaultdict(<bound method Vocab._default_unk_index of <torchtext.legacy.vocab.Vocab object at 0x7f7e9fcd3e50>>,\n",
              "            {'<unk>': 0,\n",
              "             '<pad>': 1,\n",
              "             'movie': 2,\n",
              "             'film': 3,\n",
              "             'nt': 4,\n",
              "             'like': 5,\n",
              "             'time': 6,\n",
              "             'good': 7,\n",
              "             'character': 8,\n",
              "             'story': 9,\n",
              "             'scene': 10,\n",
              "             's': 11,\n",
              "             'i': 12,\n",
              "             'people': 13,\n",
              "             'great': 14,\n",
              "             'bad': 15,\n",
              "             'do': 16,\n",
              "             'way': 17,\n",
              "             'thing': 18,\n",
              "             'think': 19,\n",
              "             'life': 20,\n",
              "             'watch': 21,\n",
              "             'know': 22,\n",
              "             'love': 23,\n",
              "             'actor': 24,\n",
              "             'seen': 25,\n",
              "             'plot': 26,\n",
              "             'end': 27,\n",
              "             'look': 28,\n",
              "             'acting': 29,\n",
              "             'year': 30,\n",
              "             'little': 31,\n",
              "             'best': 32,\n",
              "             'better': 33,\n",
              "             'man': 34,\n",
              "             'work': 35,\n",
              "             'come': 36,\n",
              "             'm': 37,\n",
              "             've': 38,\n",
              "             'find': 39,\n",
              "             'want': 40,\n",
              "             'lot': 41,\n",
              "             'director': 42,\n",
              "             'watching': 43,\n",
              "             'guy': 44,\n",
              "             'real': 45,\n",
              "             'does': 46,\n",
              "             'performance': 47,\n",
              "             'did': 48,\n",
              "             'you': 49,\n",
              "             'funny': 50,\n",
              "             'play': 51,\n",
              "             'woman': 52,\n",
              "             'actually': 53,\n",
              "             'role': 54,\n",
              "             'make': 55,\n",
              "             'going': 56,\n",
              "             'new': 57,\n",
              "             'old': 58,\n",
              "             'girl': 59,\n",
              "             'point': 60,\n",
              "             'ca': 61,\n",
              "             'that': 62,\n",
              "             'world': 63,\n",
              "             'cast': 64,\n",
              "             'day': 65,\n",
              "             'pretty': 66,\n",
              "             'fact': 67,\n",
              "             'minute': 68,\n",
              "             'got': 69,\n",
              "             'feel': 70,\n",
              "             'thought': 71,\n",
              "             'horror': 72,\n",
              "             'comedy': 73,\n",
              "             'young': 74,\n",
              "             'right': 75,\n",
              "             'star': 76,\n",
              "             'action': 77,\n",
              "             'big': 78,\n",
              "             'fan': 79,\n",
              "             'friend': 80,\n",
              "             'bit': 81,\n",
              "             'long': 82,\n",
              "             'music': 83,\n",
              "             'line': 84,\n",
              "             'original': 85,\n",
              "             'is': 86,\n",
              "             'saw': 87,\n",
              "             're': 88,\n",
              "             'get': 89,\n",
              "             'family': 90,\n",
              "             'series': 91,\n",
              "             'there': 92,\n",
              "             'interesting': 93,\n",
              "             'script': 94,\n",
              "             'set': 95,\n",
              "             'try': 96,\n",
              "             'he': 97,\n",
              "             'kid': 98,\n",
              "             'shot': 99,\n",
              "             'kind': 100,\n",
              "             'far': 101,\n",
              "             'start': 102,\n",
              "             'effect': 103,\n",
              "             'reason': 104,\n",
              "             'book': 105,\n",
              "             'tv': 106,\n",
              "             'probably': 107,\n",
              "             'place': 108,\n",
              "             'moment': 109,\n",
              "             'let': 110,\n",
              "             'away': 111,\n",
              "             'fun': 112,\n",
              "             'd': 113,\n",
              "             'worst': 114,\n",
              "             'sure': 115,\n",
              "             'audience': 116,\n",
              "             'idea': 117,\n",
              "             'need': 118,\n",
              "             'found': 119,\n",
              "             'played': 120,\n",
              "             'tell': 121,\n",
              "             'making': 122,\n",
              "             'believe': 123,\n",
              "             'child': 124,\n",
              "             'turn': 125,\n",
              "             'dvd': 126,\n",
              "             'course': 127,\n",
              "             'having': 128,\n",
              "             'show': 129,\n",
              "             'ending': 130,\n",
              "             'american': 131,\n",
              "             'especially': 132,\n",
              "             'job': 133,\n",
              "             'trying': 134,\n",
              "             'episode': 135,\n",
              "             'war': 136,\n",
              "             'screen': 137,\n",
              "             'hard': 138,\n",
              "             'mean': 139,\n",
              "             'go': 140,\n",
              "             'worth': 141,\n",
              "             'looking': 142,\n",
              "             'maybe': 143,\n",
              "             'main': 144,\n",
              "             'different': 145,\n",
              "             'sense': 146,\n",
              "             'watched': 147,\n",
              "             'money': 148,\n",
              "             'problem': 149,\n",
              "             'version': 150,\n",
              "             'was': 151,\n",
              "             'help': 152,\n",
              "             'true': 153,\n",
              "             'night': 154,\n",
              "             'instead': 155,\n",
              "             'second': 156,\n",
              "             'special': 157,\n",
              "             'later': 158,\n",
              "             'boy': 159,\n",
              "             'john': 160,\n",
              "             'laugh': 161,\n",
              "             'said': 162,\n",
              "             'death': 163,\n",
              "             'beautiful': 164,\n",
              "             'take': 165,\n",
              "             'hour': 166,\n",
              "             'lead': 167,\n",
              "             'seeing': 168,\n",
              "             'left': 169,\n",
              "             'black': 170,\n",
              "             'excellent': 171,\n",
              "             'short': 172,\n",
              "             'classic': 173,\n",
              "             'sound': 174,\n",
              "             'mind': 175,\n",
              "             'wife': 176,\n",
              "             'house': 177,\n",
              "             'viewer': 178,\n",
              "             'read': 179,\n",
              "             'production': 180,\n",
              "             'father': 181,\n",
              "             'completely': 182,\n",
              "             'face': 183,\n",
              "             'piece': 184,\n",
              "             'nice': 185,\n",
              "             'high': 186,\n",
              "             'poor': 187,\n",
              "             'simply': 188,\n",
              "             'eye': 189,\n",
              "             'picture': 190,\n",
              "             'home': 191,\n",
              "             'couple': 192,\n",
              "             'men': 193,\n",
              "             'song': 194,\n",
              "             'human': 195,\n",
              "             'enjoy': 196,\n",
              "             'use': 197,\n",
              "             'stupid': 198,\n",
              "             'hollywood': 199,\n",
              "             'video': 200,\n",
              "             'boring': 201,\n",
              "             'truly': 202,\n",
              "             'given': 203,\n",
              "             'half': 204,\n",
              "             'camera': 205,\n",
              "             'wrong': 206,\n",
              "             'dead': 207,\n",
              "             'word': 208,\n",
              "             'they': 209,\n",
              "             'hope': 210,\n",
              "             'head': 211,\n",
              "             'rest': 212,\n",
              "             'recommend': 213,\n",
              "             'school': 214,\n",
              "             'game': 215,\n",
              "             'getting': 216,\n",
              "             'kill': 217,\n",
              "             'remember': 218,\n",
              "             'awful': 219,\n",
              "             'll': 220,\n",
              "             'hand': 221,\n",
              "             'terrible': 222,\n",
              "             'could': 223,\n",
              "             'person': 224,\n",
              "             'sort': 225,\n",
              "             'dialogue': 226,\n",
              "             'sex': 227,\n",
              "             'budget': 228,\n",
              "             'wonderful': 229,\n",
              "             'case': 230,\n",
              "             'title': 231,\n",
              "             'came': 232,\n",
              "             'run': 233,\n",
              "             'mr': 234,\n",
              "             'understand': 235,\n",
              "             'flick': 236,\n",
              "             'attempt': 237,\n",
              "             'care': 238,\n",
              "             'playing': 239,\n",
              "             'small': 240,\n",
              "             'fall': 241,\n",
              "             'review': 242,\n",
              "             'perfect': 243,\n",
              "             'mother': 244,\n",
              "             'style': 245,\n",
              "             'act': 246,\n",
              "             'joke': 247,\n",
              "             'definitely': 248,\n",
              "             'sequence': 249,\n",
              "             'early': 250,\n",
              "             'example': 251,\n",
              "             'give': 252,\n",
              "             'absolutely': 253,\n",
              "             'certainly': 254,\n",
              "             'finally': 255,\n",
              "             'quality': 256,\n",
              "             'brother': 257,\n",
              "             'went': 258,\n",
              "             'entertaining': 259,\n",
              "             'cinema': 260,\n",
              "             'drama': 261,\n",
              "             'killer': 262,\n",
              "             'loved': 263,\n",
              "             'waste': 264,\n",
              "             'liked': 265,\n",
              "             'worse': 266,\n",
              "             'feeling': 267,\n",
              "             'overall': 268,\n",
              "             'supposed': 269,\n",
              "             'art': 270,\n",
              "             'lost': 271,\n",
              "             'yes': 272,\n",
              "             'direction': 273,\n",
              "             'entire': 274,\n",
              "             'matter': 275,\n",
              "             'lack': 276,\n",
              "             'writer': 277,\n",
              "             'written': 278,\n",
              "             'beginning': 279,\n",
              "             'actress': 280,\n",
              "             'felt': 281,\n",
              "             'live': 282,\n",
              "             'son': 283,\n",
              "             'car': 284,\n",
              "             'oh': 285,\n",
              "             'comment': 286,\n",
              "             'feature': 287,\n",
              "             'she': 288,\n",
              "             'favorite': 289,\n",
              "             'begin': 290,\n",
              "             'totally': 291,\n",
              "             'despite': 292,\n",
              "             'dark': 293,\n",
              "             'evil': 294,\n",
              "             'based': 295,\n",
              "             'wanted': 296,\n",
              "             'humor': 297,\n",
              "             'murder': 298,\n",
              "             'fight': 299,\n",
              "             'final': 300,\n",
              "             'low': 301,\n",
              "             'wo': 302,\n",
              "             'guess': 303,\n",
              "             'number': 304,\n",
              "             'relationship': 305,\n",
              "             'white': 306,\n",
              "             'michael': 307,\n",
              "             'experience': 308,\n",
              "             'unfortunately': 309,\n",
              "             'fine': 310,\n",
              "             'change': 311,\n",
              "             'able': 312,\n",
              "             'meet': 313,\n",
              "             'town': 314,\n",
              "             'called': 315,\n",
              "             'hero': 316,\n",
              "             'today': 317,\n",
              "             'history': 318,\n",
              "             'genre': 319,\n",
              "             'horrible': 320,\n",
              "             'amazing': 321,\n",
              "             'heart': 322,\n",
              "             'type': 323,\n",
              "             'group': 324,\n",
              "             'writing': 325,\n",
              "             'would': 326,\n",
              "             'city': 327,\n",
              "             'hit': 328,\n",
              "             'stuff': 329,\n",
              "             'daughter': 330,\n",
              "             'event': 331,\n",
              "             'enjoyed': 332,\n",
              "             'cut': 333,\n",
              "             'past': 334,\n",
              "             'gave': 335,\n",
              "             'age': 336,\n",
              "             'part': 337,\n",
              "             'robert': 338,\n",
              "             'god': 339,\n",
              "             'talent': 340,\n",
              "             'save': 341,\n",
              "             'voice': 342,\n",
              "             'directed': 343,\n",
              "             'brilliant': 344,\n",
              "             'wonder': 345,\n",
              "             'expect': 346,\n",
              "             'power': 347,\n",
              "             'add': 348,\n",
              "             'stop': 349,\n",
              "             '\\x96': 350,\n",
              "             'one': 351,\n",
              "             'chance': 352,\n",
              "             'credit': 353,\n",
              "             'score': 354,\n",
              "             'body': 355,\n",
              "             'etc': 356,\n",
              "             'situation': 357,\n",
              "             'killed': 358,\n",
              "             'level': 359,\n",
              "             'thinking': 360,\n",
              "             'theme': 361,\n",
              "             'soon': 362,\n",
              "             'obviously': 363,\n",
              "             'took': 364,\n",
              "             'question': 365,\n",
              "             'decent': 366,\n",
              "             'hell': 367,\n",
              "             'late': 368,\n",
              "             'highly': 369,\n",
              "             'say': 370,\n",
              "             'monster': 371,\n",
              "             'wish': 372,\n",
              "             'extremely': 373,\n",
              "             'ill': 374,\n",
              "             'stand': 375,\n",
              "             'close': 376,\n",
              "             'element': 377,\n",
              "             'blood': 378,\n",
              "             'order': 379,\n",
              "             'novel': 380,\n",
              "             'happens': 381,\n",
              "             'view': 382,\n",
              "             'heard': 383,\n",
              "             'talk': 384,\n",
              "             'rating': 385,\n",
              "             'career': 386,\n",
              "             'coming': 387,\n",
              "             'country': 388,\n",
              "             'police': 389,\n",
              "             'told': 390,\n",
              "             'violence': 391,\n",
              "             'interest': 392,\n",
              "             'reality': 393,\n",
              "             'involved': 394,\n",
              "             'particularly': 395,\n",
              "             'effort': 396,\n",
              "             'leave': 397,\n",
              "             'living': 398,\n",
              "             'documentary': 399,\n",
              "             'complete': 400,\n",
              "             'david': 401,\n",
              "             'obvious': 402,\n",
              "             'happen': 403,\n",
              "             'james': 404,\n",
              "             'looked': 405,\n",
              "             'including': 406,\n",
              "             'taken': 407,\n",
              "             'musical': 408,\n",
              "             'happened': 409,\n",
              "             'ok': 410,\n",
              "             'ago': 411,\n",
              "             'sequel': 412,\n",
              "             'hilarious': 413,\n",
              "             'strong': 414,\n",
              "             'deal': 415,\n",
              "             'female': 416,\n",
              "             'opinion': 417,\n",
              "             'known': 418,\n",
              "             'cool': 419,\n",
              "             'husband': 420,\n",
              "             'crap': 421,\n",
              "             'simple': 422,\n",
              "             'light': 423,\n",
              "             'lady': 424,\n",
              "             'spoiler': 425,\n",
              "             'twist': 426,\n",
              "             'value': 427,\n",
              "             'released': 428,\n",
              "             'shown': 429,\n",
              "             'local': 430,\n",
              "             'dog': 431,\n",
              "             'room': 432,\n",
              "             'exactly': 433,\n",
              "             'usually': 434,\n",
              "             'huge': 435,\n",
              "             'english': 436,\n",
              "             'theater': 437,\n",
              "             'possible': 438,\n",
              "             'seriously': 439,\n",
              "             'running': 440,\n",
              "             'sister': 441,\n",
              "             'gore': 442,\n",
              "             'filmmaker': 443,\n",
              "             'sad': 444,\n",
              "             'zombie': 445,\n",
              "             'major': 446,\n",
              "             'ridiculous': 447,\n",
              "             'dialog': 448,\n",
              "             'cinematography': 449,\n",
              "             'started': 450,\n",
              "             'opening': 451,\n",
              "             'annoying': 452,\n",
              "             'slow': 453,\n",
              "             'cop': 454,\n",
              "             'dream': 455,\n",
              "             'scary': 456,\n",
              "             'miss': 457,\n",
              "             'somewhat': 458,\n",
              "             'usual': 459,\n",
              "             'thriller': 460,\n",
              "             'saying': 461,\n",
              "             'important': 462,\n",
              "             'mention': 463,\n",
              "             'message': 464,\n",
              "             'strange': 465,\n",
              "             'attention': 466,\n",
              "             'taking': 467,\n",
              "             'stay': 468,\n",
              "             'disappointed': 469,\n",
              "             'apparently': 470,\n",
              "             'parent': 471,\n",
              "             'team': 472,\n",
              "             'tale': 473,\n",
              "             'talking': 474,\n",
              "             'comic': 475,\n",
              "             'image': 476,\n",
              "             'knew': 477,\n",
              "             'hate': 478,\n",
              "             'silly': 479,\n",
              "             'return': 480,\n",
              "             'rock': 481,\n",
              "             'king': 482,\n",
              "             'happy': 483,\n",
              "             'television': 484,\n",
              "             'season': 485,\n",
              "             'clearly': 486,\n",
              "             'member': 487,\n",
              "             'turned': 488,\n",
              "             'open': 489,\n",
              "             'surprise': 490,\n",
              "             'what': 491,\n",
              "             'basically': 492,\n",
              "             'figure': 493,\n",
              "             'street': 494,\n",
              "             'crime': 495,\n",
              "             'producer': 496,\n",
              "             'cheap': 497,\n",
              "             'state': 498,\n",
              "             'subject': 499,\n",
              "             'jack': 500,\n",
              "             'are': 501,\n",
              "             'release': 502,\n",
              "             'george': 503,\n",
              "             'single': 504,\n",
              "             'soundtrack': 505,\n",
              "             'result': 506,\n",
              "             'space': 507,\n",
              "             'hold': 508,\n",
              "             'western': 509,\n",
              "             'modern': 510,\n",
              "             'british': 511,\n",
              "             'easily': 512,\n",
              "             'predictable': 513,\n",
              "             'bring': 514,\n",
              "             'peter': 515,\n",
              "             'viewing': 516,\n",
              "             'french': 517,\n",
              "             'doubt': 518,\n",
              "             'showing': 519,\n",
              "             'similar': 520,\n",
              "             'mystery': 521,\n",
              "             'enjoyable': 522,\n",
              "             'giving': 523,\n",
              "             'earth': 524,\n",
              "             'future': 525,\n",
              "             'appears': 526,\n",
              "             'filmed': 527,\n",
              "             'buy': 528,\n",
              "             'drug': 529,\n",
              "             'supporting': 530,\n",
              "             'have': 531,\n",
              "             'tried': 532,\n",
              "             'storyline': 533,\n",
              "             'killing': 534,\n",
              "             'villain': 535,\n",
              "             'form': 536,\n",
              "             'class': 537,\n",
              "             'clear': 538,\n",
              "             'middle': 539,\n",
              "             'moving': 540,\n",
              "             'romantic': 541,\n",
              "             'bunch': 542,\n",
              "             'entertainment': 543,\n",
              "             'aspect': 544,\n",
              "             'break': 545,\n",
              "             'working': 546,\n",
              "             'doctor': 547,\n",
              "             'adult': 548,\n",
              "             'soldier': 549,\n",
              "             'oscar': 550,\n",
              "             'gun': 551,\n",
              "             'near': 552,\n",
              "             'emotion': 553,\n",
              "             'who': 554,\n",
              "             'check': 555,\n",
              "             'period': 556,\n",
              "             'surprised': 557,\n",
              "             'dull': 558,\n",
              "             'sorry': 559,\n",
              "             'kept': 560,\n",
              "             'note': 561,\n",
              "             'setting': 562,\n",
              "             'easy': 563,\n",
              "             'dance': 564,\n",
              "             'standard': 565,\n",
              "             'typical': 566,\n",
              "             'certain': 567,\n",
              "             'actual': 568,\n",
              "             'imagine': 569,\n",
              "             'animation': 570,\n",
              "             'material': 571,\n",
              "             'force': 572,\n",
              "             'greatest': 573,\n",
              "             'victim': 574,\n",
              "             'suspense': 575,\n",
              "             'detail': 576,\n",
              "             'die': 577,\n",
              "             'general': 578,\n",
              "             'fantastic': 579,\n",
              "             'realistic': 580,\n",
              "             'famous': 581,\n",
              "             'nearly': 582,\n",
              "             'th': 583,\n",
              "             'cartoon': 584,\n",
              "             'editing': 585,\n",
              "             'named': 586,\n",
              "             'premise': 587,\n",
              "             'wait': 588,\n",
              "             'present': 589,\n",
              "             'learn': 590,\n",
              "             'richard': 591,\n",
              "             'student': 592,\n",
              "             'okay': 593,\n",
              "             'battle': 594,\n",
              "             'atmosphere': 595,\n",
              "             'avoid': 596,\n",
              "             'mark': 597,\n",
              "             'masterpiece': 598,\n",
              "             'straight': 599,\n",
              "             'rent': 600,\n",
              "             'forget': 601,\n",
              "             'issue': 602,\n",
              "             'truth': 603,\n",
              "             'fit': 604,\n",
              "             'gone': 605,\n",
              "             'dr': 606,\n",
              "             'brought': 607,\n",
              "             'alien': 608,\n",
              "             'expected': 609,\n",
              "             'york': 610,\n",
              "             'copy': 611,\n",
              "             'paul': 612,\n",
              "             'vampire': 613,\n",
              "             'america': 614,\n",
              "             'romance': 615,\n",
              "             'weak': 616,\n",
              "             'hear': 617,\n",
              "             'escape': 618,\n",
              "             'screenplay': 619,\n",
              "             'b': 620,\n",
              "             'background': 621,\n",
              "             'particular': 622,\n",
              "             'gay': 623,\n",
              "             'society': 624,\n",
              "             'baby': 625,\n",
              "             'offer': 626,\n",
              "             'sit': 627,\n",
              "             'water': 628,\n",
              "             'follow': 629,\n",
              "             'pay': 630,\n",
              "             'believable': 631,\n",
              "             'german': 632,\n",
              "             'leaf': 633,\n",
              "             'crew': 634,\n",
              "             'choice': 635,\n",
              "             'scifi': 636,\n",
              "             'difficult': 637,\n",
              "             'eventually': 638,\n",
              "             'lame': 639,\n",
              "             'secret': 640,\n",
              "             'cause': 641,\n",
              "             'deep': 642,\n",
              "             'shame': 643,\n",
              "             'poorly': 644,\n",
              "             'de': 645,\n",
              "             'memorable': 646,\n",
              "             'needed': 647,\n",
              "             'cover': 648,\n",
              "             'week': 649,\n",
              "             'tom': 650,\n",
              "             'red': 651,\n",
              "             'fast': 652,\n",
              "             'walk': 653,\n",
              "             'studio': 654,\n",
              "             'male': 655,\n",
              "             'average': 656,\n",
              "             'island': 657,\n",
              "             'emotional': 658,\n",
              "             'possibly': 659,\n",
              "             'superb': 660,\n",
              "             'focus': 661,\n",
              "             'box': 662,\n",
              "             'sexual': 663,\n",
              "             'beauty': 664,\n",
              "             'plus': 665,\n",
              "             'stage': 666,\n",
              "             'bill': 667,\n",
              "             'lee': 668,\n",
              "             'reading': 669,\n",
              "             'decided': 670,\n",
              "             'previous': 671,\n",
              "             'interested': 672,\n",
              "             'accent': 673,\n",
              "             'footage': 674,\n",
              "             'disney': 675,\n",
              "             'total': 676,\n",
              "             'remake': 677,\n",
              "             'forced': 678,\n",
              "             'fire': 679,\n",
              "             'imdb': 680,\n",
              "             'write': 681,\n",
              "             'perfectly': 682,\n",
              "             'personal': 683,\n",
              "             'wood': 684,\n",
              "             'nature': 685,\n",
              "             'quickly': 686,\n",
              "             'location': 687,\n",
              "             'cheesy': 688,\n",
              "             'la': 689,\n",
              "             'earlier': 690,\n",
              "             'lover': 691,\n",
              "             'party': 692,\n",
              "             'inside': 693,\n",
              "             'cry': 694,\n",
              "             'incredibly': 695,\n",
              "             'unique': 696,\n",
              "             'japanese': 697,\n",
              "             'weird': 698,\n",
              "             'project': 699,\n",
              "             'girlfriend': 700,\n",
              "             'mess': 701,\n",
              "             'hot': 702,\n",
              "             'joe': 703,\n",
              "             'touch': 704,\n",
              "             'worked': 705,\n",
              "             'development': 706,\n",
              "             'animal': 707,\n",
              "             'plan': 708,\n",
              "             'air': 709,\n",
              "             'fantasy': 710,\n",
              "             'keep': 711,\n",
              "             'win': 712,\n",
              "             'plenty': 713,\n",
              "             'forward': 714,\n",
              "             'free': 715,\n",
              "             'creature': 716,\n",
              "             'company': 717,\n",
              "             'realize': 718,\n",
              "             'older': 719,\n",
              "             'rate': 720,\n",
              "             'band': 721,\n",
              "             'adventure': 722,\n",
              "             'fear': 723,\n",
              "             'badly': 724,\n",
              "             'crazy': 725,\n",
              "             'master': 726,\n",
              "             'acted': 727,\n",
              "             'following': 728,\n",
              "             'apart': 729,\n",
              "             'leading': 730,\n",
              "             'dumb': 731,\n",
              "             'match': 732,\n",
              "             'term': 733,\n",
              "             'outside': 734,\n",
              "             'success': 735,\n",
              "             'portrayed': 736,\n",
              "             'business': 737,\n",
              "             'creepy': 738,\n",
              "             'appear': 739,\n",
              "             'brings': 740,\n",
              "             'costume': 741,\n",
              "             'memory': 742,\n",
              "             'powerful': 743,\n",
              "             'directing': 744,\n",
              "             'rich': 745,\n",
              "             'portrayal': 746,\n",
              "             'dramatic': 747,\n",
              "             'trouble': 748,\n",
              "             'deserves': 749,\n",
              "             'ask': 750,\n",
              "             'award': 751,\n",
              "             'meant': 752,\n",
              "             'pick': 753,\n",
              "             'wasted': 754,\n",
              "             'fairly': 755,\n",
              "             'spent': 756,\n",
              "             'throw': 757,\n",
              "             'ability': 758,\n",
              "             'fighting': 759,\n",
              "             'admit': 760,\n",
              "             'william': 761,\n",
              "             'hardly': 762,\n",
              "             'channel': 763,\n",
              "             'plain': 764,\n",
              "             'manages': 765,\n",
              "             'political': 766,\n",
              "             'pull': 767,\n",
              "             'scott': 768,\n",
              "             'train': 769,\n",
              "             'laughing': 770,\n",
              "             'recently': 771,\n",
              "             'brain': 772,\n",
              "             'create': 773,\n",
              "             'expecting': 774,\n",
              "             'pace': 775,\n",
              "             'agree': 776,\n",
              "             'ended': 777,\n",
              "             'store': 778,\n",
              "             'era': 779,\n",
              "             'chase': 780,\n",
              "             'missing': 781,\n",
              "             'mistake': 782,\n",
              "             'stick': 783,\n",
              "             'cat': 784,\n",
              "             'concept': 785,\n",
              "             'ghost': 786,\n",
              "             'large': 787,\n",
              "             'spirit': 788,\n",
              "             'unlike': 789,\n",
              "             'created': 790,\n",
              "             'fails': 791,\n",
              "             'hole': 792,\n",
              "             'appearance': 793,\n",
              "             'door': 794,\n",
              "             'soul': 795,\n",
              "             'talented': 796,\n",
              "             'van': 797,\n",
              "             'attack': 798,\n",
              "             'pure': 799,\n",
              "             'caught': 800,\n",
              "             'list': 801,\n",
              "             'odd': 802,\n",
              "             'century': 803,\n",
              "             'casting': 804,\n",
              "             'clever': 805,\n",
              "             'missed': 806,\n",
              "             'language': 807,\n",
              "             'cute': 808,\n",
              "             'depth': 809,\n",
              "             'nudity': 810,\n",
              "             'teen': 811,\n",
              "             'telling': 812,\n",
              "             'blue': 813,\n",
              "             'office': 814,\n",
              "             'player': 815,\n",
              "             'shoot': 816,\n",
              "             'italian': 817,\n",
              "             'see': 818,\n",
              "             'waiting': 819,\n",
              "             'follows': 820,\n",
              "             'sadly': 821,\n",
              "             'public': 822,\n",
              "             'potential': 823,\n",
              "             'us': 824,\n",
              "             'died': 825,\n",
              "             'entirely': 826,\n",
              "             'flat': 827,\n",
              "             'mentioned': 828,\n",
              "             'answer': 829,\n",
              "             'decides': 830,\n",
              "             'tension': 831,\n",
              "             'basic': 832,\n",
              "             'bored': 833,\n",
              "             'incredible': 834,\n",
              "             'slightly': 835,\n",
              "             'speak': 836,\n",
              "             'track': 837,\n",
              "             'wrote': 838,\n",
              "             'visual': 839,\n",
              "             'color': 840,\n",
              "             'college': 841,\n",
              "             'catch': 842,\n",
              "             'positive': 843,\n",
              "             'move': 844,\n",
              "             'convincing': 845,\n",
              "             'popular': 846,\n",
              "             'respect': 847,\n",
              "             'million': 848,\n",
              "             'indian': 849,\n",
              "             'adaptation': 850,\n",
              "             'considering': 851,\n",
              "             'gang': 852,\n",
              "             'compared': 853,\n",
              "             'familiar': 854,\n",
              "             'taste': 855,\n",
              "             'intelligent': 856,\n",
              "             'recommended': 857,\n",
              "             'belief': 858,\n",
              "             'control': 859,\n",
              "             'land': 860,\n",
              "             'appreciate': 861,\n",
              "             'bother': 862,\n",
              "             'building': 863,\n",
              "             'amusing': 864,\n",
              "             'conclusion': 865,\n",
              "             'produced': 866,\n",
              "             'dancing': 867,\n",
              "             'purpose': 868,\n",
              "             'biggest': 869,\n",
              "             'maker': 870,\n",
              "             'scientist': 871,\n",
              "             'drive': 872,\n",
              "             'filled': 873,\n",
              "             'common': 874,\n",
              "             'spend': 875,\n",
              "             'married': 876,\n",
              "             'camp': 877,\n",
              "             'christmas': 878,\n",
              "             'flaw': 879,\n",
              "             'younger': 880,\n",
              "             'hair': 881,\n",
              "             'suddenly': 882,\n",
              "             'humour': 883,\n",
              "             'social': 884,\n",
              "             'trip': 885,\n",
              "             'carry': 886,\n",
              "             'cold': 887,\n",
              "             'longer': 888,\n",
              "             'mad': 889,\n",
              "             'personality': 890,\n",
              "             'science': 891,\n",
              "             'critic': 892,\n",
              "             'impressive': 893,\n",
              "             'culture': 894,\n",
              "             'extra': 895,\n",
              "             'shooting': 896,\n",
              "             'fake': 897,\n",
              "             'suck': 898,\n",
              "             'park': 899,\n",
              "             'road': 900,\n",
              "             'tone': 901,\n",
              "             'violent': 902,\n",
              "             'lie': 903,\n",
              "             'successful': 904,\n",
              "             'genius': 905,\n",
              "             'sam': 906,\n",
              "             'ultimately': 907,\n",
              "             'ben': 908,\n",
              "             'ship': 909,\n",
              "             'sweet': 910,\n",
              "             'pointless': 911,\n",
              "             'yeah': 912,\n",
              "             'alive': 913,\n",
              "             'meaning': 914,\n",
              "             'prison': 915,\n",
              "             'agent': 916,\n",
              "             'effective': 917,\n",
              "             'involving': 918,\n",
              "             'jane': 919,\n",
              "             'army': 920,\n",
              "             'singing': 921,\n",
              "             'solid': 922,\n",
              "             'awesome': 923,\n",
              "             'pathetic': 924,\n",
              "             'teenager': 925,\n",
              "             'changed': 926,\n",
              "             'aside': 927,\n",
              "             'impossible': 928,\n",
              "             'reviewer': 929,\n",
              "             'barely': 930,\n",
              "             'ride': 931,\n",
              "             'law': 932,\n",
              "             'leaving': 933,\n",
              "             'bizarre': 934,\n",
              "             'capture': 935,\n",
              "             'area': 936,\n",
              "             'recent': 937,\n",
              "             'considered': 938,\n",
              "             'difference': 939,\n",
              "             'mood': 940,\n",
              "             'bought': 941,\n",
              "             'government': 942,\n",
              "             'showed': 943,\n",
              "             'thanks': 944,\n",
              "             'detective': 945,\n",
              "             'honest': 946,\n",
              "             'were': 947,\n",
              "             'exciting': 948,\n",
              "             'trash': 949,\n",
              "             'date': 950,\n",
              "             'decide': 951,\n",
              "             'consider': 952,\n",
              "             'garbage': 953,\n",
              "             'spot': 954,\n",
              "             'failed': 955,\n",
              "             'folk': 956,\n",
              "             'edge': 957,\n",
              "             'literally': 958,\n",
              "             'charles': 959,\n",
              "             'sick': 960,\n",
              "             'beat': 961,\n",
              "             'giant': 962,\n",
              "             'planet': 963,\n",
              "             'added': 964,\n",
              "             'dad': 965,\n",
              "             'journey': 966,\n",
              "             'artist': 967,\n",
              "             'chemistry': 968,\n",
              "             'computer': 969,\n",
              "             'steal': 970,\n",
              "             'disturbing': 971,\n",
              "             'ring': 972,\n",
              "             'cost': 973,\n",
              "             'hurt': 974,\n",
              "             'festival': 975,\n",
              "             'foot': 976,\n",
              "             'struggle': 977,\n",
              "             'surprisingly': 978,\n",
              "             'bond': 979,\n",
              "             'slasher': 980,\n",
              "             'finish': 981,\n",
              "             'starring': 982,\n",
              "             'fair': 983,\n",
              "             'immediately': 984,\n",
              "             'sitting': 985,\n",
              "             'affair': 986,\n",
              "             'revenge': 987,\n",
              "             'appeal': 988,\n",
              "             'won': 989,\n",
              "             'fiction': 990,\n",
              "             'reference': 991,\n",
              "             'charm': 992,\n",
              "             'excuse': 993,\n",
              "             'frank': 994,\n",
              "             'glad': 995,\n",
              "             'opportunity': 996,\n",
              "             'expectation': 997,\n",
              "             'normal': 998,\n",
              "             'step': 999,\n",
              "             ...})"
            ]
          },
          "metadata": {
            "tags": []
          },
          "execution_count": 47
        }
      ]
    },
    {
      "cell_type": "code",
      "metadata": {
        "colab": {
          "base_uri": "https://localhost:8080/"
        },
        "id": "0EZ_XY6vUN9G",
        "outputId": "023198e8-17a2-4849-e5c0-540ec4c29c4c"
      },
      "source": [
        "device = ('cuda:0' if torch.cuda.is_available() else 'cpu')\n",
        "print(device)"
      ],
      "execution_count": 48,
      "outputs": [
        {
          "output_type": "stream",
          "text": [
            "cpu\n"
          ],
          "name": "stdout"
        }
      ]
    },
    {
      "cell_type": "code",
      "metadata": {
        "id": "px4wXJ8wUegQ"
      },
      "source": [
        "train_iter, test_iter = ttd.Iterator.splits(\n",
        "    (train_dataset, test_dataset), sort_key= lambda x: len(x.data),\n",
        "    batch_sizes = (32,256), device=device)"
      ],
      "execution_count": 50,
      "outputs": []
    },
    {
      "cell_type": "code",
      "metadata": {
        "colab": {
          "base_uri": "https://localhost:8080/"
        },
        "id": "tcEn2sUDQ2ku",
        "outputId": "bb9c8e1b-41b1-4f05-a96b-8941364e119b"
      },
      "source": [
        "for inputs, targets in train_iter:\n",
        "  print('inputs: ',inputs, 'inputs.size: ',inputs.shape)\n",
        "  print('targets: ',targets, 'targets.size: ',targets.shape)\n",
        "  break"
      ],
      "execution_count": 54,
      "outputs": [
        {
          "output_type": "stream",
          "text": [
            "inputs:  tensor([[    1,     1,     1,  ...,   988,  2984, 10755],\n",
            "        [    1,     1,     1,  ...,   229,     3,   263],\n",
            "        [    1,     1,     1,  ...,   726, 32597, 70796],\n",
            "        ...,\n",
            "        [    1,     1,     1,  ..., 12581,    28,    66],\n",
            "        [    1,     1,     1,  ...,   711, 13650,  5433],\n",
            "        [    1,     1,     1,  ...,  5832,  4405, 69588]]) inputs.size:  torch.Size([32, 197])\n",
            "targets:  tensor([1, 0, 1, 0, 0, 1, 1, 0, 1, 1, 1, 0, 1, 0, 1, 1, 1, 1, 0, 1, 1, 0, 1, 0,\n",
            "        0, 0, 0, 1, 0, 0, 0, 0]) targets.size:  torch.Size([32])\n"
          ],
          "name": "stdout"
        }
      ]
    },
    {
      "cell_type": "code",
      "metadata": {
        "colab": {
          "base_uri": "https://localhost:8080/"
        },
        "id": "NiBN4sxIR6-p",
        "outputId": "8dcf25b2-abb9-4148-c9c0-c8bae1b1ad29"
      },
      "source": [
        "for inputs, targets in test_iter:\n",
        "  print('inputs: ',inputs, 'inputs.size: ',inputs.shape)\n",
        "  print('targets: ',targets, 'targets.size: ',targets.shape)\n",
        "  break"
      ],
      "execution_count": 55,
      "outputs": [
        {
          "output_type": "stream",
          "text": [
            "inputs:  tensor([[ 409,  397, 3008,  ..., 1485,  210,  221],\n",
            "        [ 185,    3,  719,  ...,  382, 1291,  111],\n",
            "        [  12,   37,  115,  ...,  584,  295,   33],\n",
            "        ...,\n",
            "        [   1,    1,    1,  ..., 1152, 1888,  154],\n",
            "        [   1,    1,    1,  ...,  222,    7,  103],\n",
            "        [   1,    1,    1,  ..., 2223, 1095,  971]]) inputs.size:  torch.Size([256, 21])\n",
            "targets:  tensor([0, 1, 1, 1, 0, 1, 1, 0, 1, 1, 0, 1, 0, 1, 0, 0, 0, 0, 1, 0, 0, 0, 0, 0,\n",
            "        0, 1, 1, 0, 1, 0, 0, 0, 0, 0, 0, 0, 0, 0, 1, 1, 1, 0, 1, 0, 0, 0, 1, 1,\n",
            "        0, 0, 0, 0, 1, 1, 1, 1, 0, 0, 0, 1, 1, 1, 0, 1, 0, 1, 0, 1, 0, 1, 1, 1,\n",
            "        0, 0, 0, 0, 0, 0, 1, 0, 0, 0, 0, 0, 1, 0, 0, 1, 1, 1, 1, 1, 0, 0, 0, 1,\n",
            "        1, 1, 0, 1, 0, 1, 1, 0, 1, 1, 1, 0, 1, 1, 0, 1, 1, 0, 1, 1, 0, 0, 0, 1,\n",
            "        1, 0, 0, 1, 0, 0, 1, 1, 1, 1, 1, 0, 0, 1, 0, 1, 0, 1, 0, 1, 1, 0, 1, 1,\n",
            "        0, 0, 0, 1, 1, 1, 0, 0, 1, 1, 0, 0, 0, 0, 1, 0, 0, 0, 0, 0, 1, 1, 1, 1,\n",
            "        1, 1, 0, 0, 1, 0, 0, 0, 1, 0, 1, 0, 0, 1, 1, 0, 0, 1, 1, 1, 0, 1, 1, 1,\n",
            "        0, 0, 0, 1, 0, 1, 0, 0, 1, 0, 1, 1, 0, 1, 0, 0, 0, 0, 1, 0, 0, 1, 1, 0,\n",
            "        1, 1, 1, 0, 1, 0, 1, 0, 1, 0, 0, 1, 1, 0, 1, 1, 0, 0, 1, 0, 0, 0, 1, 0,\n",
            "        1, 0, 0, 1, 0, 0, 0, 0, 0, 0, 0, 0, 0, 1, 1, 1]) targets.size:  torch.Size([256])\n"
          ],
          "name": "stdout"
        }
      ]
    },
    {
      "cell_type": "markdown",
      "metadata": {
        "id": "_zsUzoBhSBFx"
      },
      "source": [
        "# Defining a model"
      ]
    },
    {
      "cell_type": "code",
      "metadata": {
        "id": "Ygc16PJmScjT"
      },
      "source": [
        "# Define the model\n",
        "class RNN(nn.Module):\n",
        "  def __init__(self, n_vocab, embed_dim, n_hidden, n_rnnlayers, n_outputs):\n",
        "    super(RNN, self).__init__()\n",
        "    self.V = n_vocab\n",
        "    self.D = embed_dim\n",
        "    self.M = n_hidden\n",
        "    self.K = n_outputs\n",
        "    self.L = n_rnnlayers\n",
        "\n",
        "    self.embed = nn.Embedding(self.V, self.D)\n",
        "    self.rnn = nn.LSTM(\n",
        "        input_size=self.D,\n",
        "        hidden_size=self.M,\n",
        "        num_layers=self.L,\n",
        "        batch_first=True)\n",
        "    self.fc = nn.Linear(self.M, self.K)\n",
        "  \n",
        "  def forward(self, X):\n",
        "    # initial hidden states\n",
        "    h0 = torch.zeros(self.L, X.size(0), self.M).to(device)\n",
        "    c0 = torch.zeros(self.L, X.size(0), self.M).to(device)\n",
        "\n",
        "    # embedding layer\n",
        "    # turns word indexes into word vectors\n",
        "    out = self.embed(X)\n",
        "\n",
        "    # get RNN unit output\n",
        "    out, _ = self.rnn(out, (h0, c0))\n",
        "\n",
        "    # max pool\n",
        "    out, _ = torch.max(out, 1)\n",
        "\n",
        "    # we only want h(T) at the final time step\n",
        "    out = self.fc(out)\n",
        "    return out"
      ],
      "execution_count": 85,
      "outputs": []
    },
    {
      "cell_type": "code",
      "metadata": {
        "colab": {
          "base_uri": "https://localhost:8080/"
        },
        "id": "pDavaQV_YR3z",
        "outputId": "5093942d-c08f-4958-8dfd-d03a9b37f2f7"
      },
      "source": [
        "model = RNN(len(vocab), 15, 20, 1, 1)\n",
        "model.to(device)"
      ],
      "execution_count": 86,
      "outputs": [
        {
          "output_type": "execute_result",
          "data": {
            "text/plain": [
              "RNN(\n",
              "  (embed): Embedding(123239, 15)\n",
              "  (rnn): LSTM(15, 20, batch_first=True)\n",
              "  (fc): Linear(in_features=20, out_features=1, bias=True)\n",
              ")"
            ]
          },
          "metadata": {
            "tags": []
          },
          "execution_count": 86
        }
      ]
    },
    {
      "cell_type": "code",
      "metadata": {
        "id": "qqrM-wjcYerf"
      },
      "source": [
        "criterion  = nn.BCEWithLogitsLoss()\n",
        "optimizer = torch.optim.Adam(model.parameters())"
      ],
      "execution_count": 87,
      "outputs": []
    },
    {
      "cell_type": "code",
      "metadata": {
        "id": "IPO3cbWOZDBH"
      },
      "source": [
        "# A function to encapsulate the training loop\n",
        "def batch_gd(model, criterion, optimizer, train_iter, test_iter, epochs):\n",
        "  train_losses = np.zeros(epochs)\n",
        "  test_losses = np.zeros(epochs)\n",
        "\n",
        "  for it in range(epochs):\n",
        "    t0 = datetime.now()\n",
        "    train_loss = []\n",
        "    for inputs, targets in train_iter:\n",
        "      # print(\"inputs.shape:\", inputs.shape, \"targets.shape:\", targets.shape)\n",
        "      targets = targets.view(-1, 1).float()\n",
        "      # move data to GPU\n",
        "      # inputs, targets = inputs.to(device), targets.to(device)\n",
        "\n",
        "      # zero the parameter gradients\n",
        "      optimizer.zero_grad()\n",
        "\n",
        "      # Forward pass\n",
        "      outputs = model(inputs)\n",
        "      loss = criterion(outputs, targets)\n",
        "        \n",
        "      # Backward and optimize\n",
        "      loss.backward()\n",
        "      optimizer.step()\n",
        "\n",
        "      train_loss.append(loss.item())\n",
        "\n",
        "    # Get train loss and test loss\n",
        "    train_loss = np.mean(train_loss) # a little misleading\n",
        "    \n",
        "    test_loss = []\n",
        "    for inputs, targets in test_iter:\n",
        "      # inputs, targets = inputs.to(device), targets.to(device)\n",
        "      targets = targets.view(-1, 1).float()\n",
        "      outputs = model(inputs)\n",
        "      loss = criterion(outputs, targets)\n",
        "      test_loss.append(loss.item())\n",
        "    test_loss = np.mean(test_loss)\n",
        "\n",
        "    # Save losses\n",
        "    train_losses[it] = train_loss\n",
        "    test_losses[it] = test_loss\n",
        "    \n",
        "    dt = datetime.now() - t0\n",
        "    print(f'Epoch {it+1}/{epochs}, Train Loss: {train_loss:.4f}, \\\n",
        "      Test Loss: {test_loss:.4f}, Duration: {dt}')\n",
        "  \n",
        "  return train_losses, test_losses"
      ],
      "execution_count": 88,
      "outputs": []
    },
    {
      "cell_type": "code",
      "metadata": {
        "colab": {
          "base_uri": "https://localhost:8080/"
        },
        "id": "4TXmu2WCb41s",
        "outputId": "7f42ea12-47cf-4e98-b14d-b48a170ae62c"
      },
      "source": [
        "train_losses, test_losses = batch_gd(\n",
        "    model, criterion, optimizer, train_iter, test_iter, 15)"
      ],
      "execution_count": 89,
      "outputs": [
        {
          "output_type": "stream",
          "text": [
            "Epoch 1/15, Train Loss: 0.5991,       Test Loss: 0.4929, Duration: 0:02:40.265119\n",
            "Epoch 2/15, Train Loss: 0.4036,       Test Loss: 0.4008, Duration: 0:02:26.624965\n",
            "Epoch 3/15, Train Loss: 0.3120,       Test Loss: 0.3744, Duration: 0:02:21.246537\n",
            "Epoch 4/15, Train Loss: 0.2531,       Test Loss: 0.3659, Duration: 0:02:19.785468\n",
            "Epoch 5/15, Train Loss: 0.2078,       Test Loss: 0.3677, Duration: 0:02:19.904446\n",
            "Epoch 6/15, Train Loss: 0.1720,       Test Loss: 0.4023, Duration: 0:02:18.982205\n",
            "Epoch 7/15, Train Loss: 0.1394,       Test Loss: 0.4035, Duration: 0:02:19.115635\n",
            "Epoch 8/15, Train Loss: 0.1142,       Test Loss: 0.4367, Duration: 0:02:20.036445\n",
            "Epoch 9/15, Train Loss: 0.0930,       Test Loss: 0.4302, Duration: 0:02:18.873470\n",
            "Epoch 10/15, Train Loss: 0.0757,       Test Loss: 0.4755, Duration: 0:02:20.072241\n",
            "Epoch 11/15, Train Loss: 0.0604,       Test Loss: 0.5056, Duration: 0:02:20.887270\n",
            "Epoch 12/15, Train Loss: 0.0476,       Test Loss: 0.5494, Duration: 0:02:21.696734\n",
            "Epoch 13/15, Train Loss: 0.0375,       Test Loss: 0.5926, Duration: 0:02:22.409002\n",
            "Epoch 14/15, Train Loss: 0.0340,       Test Loss: 0.4988, Duration: 0:02:21.965492\n",
            "Epoch 15/15, Train Loss: 0.0264,       Test Loss: 0.5930, Duration: 0:02:21.952870\n"
          ],
          "name": "stdout"
        }
      ]
    },
    {
      "cell_type": "code",
      "metadata": {
        "colab": {
          "base_uri": "https://localhost:8080/",
          "height": 265
        },
        "id": "3W3zOfKgb7nI",
        "outputId": "53d0fddb-ffa0-40db-d75f-8972b7d4e961"
      },
      "source": [
        "# Plot the train loss and test loss per iteration\n",
        "plt.plot(train_losses, label='train loss')\n",
        "plt.plot(test_losses, label='test loss')\n",
        "plt.legend()\n",
        "plt.show()"
      ],
      "execution_count": 90,
      "outputs": [
        {
          "output_type": "display_data",
          "data": {
            "image/png": "[encoded data removed]",
            "text/plain": [
              "<Figure size 432x288 with 1 Axes>"
            ]
          },
          "metadata": {
            "tags": [],
            "needs_background": "light"
          }
        }
      ]
    },
    {
      "cell_type": "code",
      "metadata": {
        "colab": {
          "base_uri": "https://localhost:8080/"
        },
        "id": "5a9O2kv0mBYm",
        "outputId": "85cef788-e25b-47ed-8249-b88dde6bf88c"
      },
      "source": [
        "# Accuracy\n",
        "\n",
        "n_correct = 0.\n",
        "n_total = 0.\n",
        "for inputs, targets in train_iter:\n",
        "  targets = targets.view(-1, 1).float()\n",
        "\n",
        "  # Forward pass\n",
        "  outputs = model(inputs)\n",
        "\n",
        "  # Get prediction\n",
        "  predictions = (outputs > 0)\n",
        "  \n",
        "  # update counts\n",
        "  n_correct += (predictions == targets).sum().item()\n",
        "  n_total += targets.shape[0]\n",
        "\n",
        "train_acc = n_correct / n_total\n",
        "\n",
        "\n",
        "n_correct = 0.\n",
        "n_total = 0.\n",
        "for inputs, targets in test_iter:\n",
        "  targets = targets.view(-1, 1).float()\n",
        "\n",
        "  # Forward pass\n",
        "  outputs = model(inputs)\n",
        "\n",
        "  # Get prediction\n",
        "  predictions = (outputs > 0)\n",
        "  \n",
        "  # update counts\n",
        "  n_correct += (predictions == targets).sum().item()\n",
        "  n_total += targets.shape[0]\n",
        "\n",
        "test_acc = n_correct / n_total\n",
        "print(f\"Train acc: {train_acc:.4f}, Test acc: {test_acc:.4f}\")"
      ],
      "execution_count": 91,
      "outputs": [
        {
          "output_type": "stream",
          "text": [
            "Train acc: 0.9965, Test acc: 0.8484\n"
          ],
          "name": "stdout"
        }
      ]
    }
  ]
}